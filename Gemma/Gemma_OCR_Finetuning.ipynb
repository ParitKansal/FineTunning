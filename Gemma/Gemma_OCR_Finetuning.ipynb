{
  "cells": [
    {
      "cell_type": "markdown",
      "metadata": {
        "id": "view-in-github",
        "colab_type": "text"
      },
      "source": [
        "<a href=\"https://colab.research.google.com/github/ParitKansal/FineTunning/blob/main/Gemma_OCR_Finetuning.ipynb\" target=\"_parent\"><img src=\"https://colab.research.google.com/assets/colab-badge.svg\" alt=\"Open In Colab\"/></a>"
      ]
    },
    {
      "cell_type": "code",
      "execution_count": 4,
      "metadata": {
        "colab": {
          "base_uri": "https://localhost:8080/"
        },
        "id": "xryRGDfHU-ji",
        "outputId": "04dff396-5960-4e0c-d171-49854e046f01"
      },
      "outputs": [
        {
          "output_type": "stream",
          "name": "stdout",
          "text": [
            "Requirement already satisfied: trl in /usr/local/lib/python3.12/dist-packages (0.23.0)\n",
            "Requirement already satisfied: bitsandbytes in /usr/local/lib/python3.12/dist-packages (0.47.0)\n",
            "Requirement already satisfied: peft in /usr/local/lib/python3.12/dist-packages (0.17.1)\n",
            "Requirement already satisfied: accelerate>=1.4.0 in /usr/local/lib/python3.12/dist-packages (from trl) (1.10.1)\n",
            "Requirement already satisfied: datasets>=3.0.0 in /usr/local/lib/python3.12/dist-packages (from trl) (4.0.0)\n",
            "Requirement already satisfied: transformers>=4.56.1 in /usr/local/lib/python3.12/dist-packages (from trl) (4.56.1)\n",
            "Requirement already satisfied: torch<3,>=2.2 in /usr/local/lib/python3.12/dist-packages (from bitsandbytes) (2.8.0+cu126)\n",
            "Requirement already satisfied: numpy>=1.17 in /usr/local/lib/python3.12/dist-packages (from bitsandbytes) (2.0.2)\n",
            "Requirement already satisfied: packaging>=20.0 in /usr/local/lib/python3.12/dist-packages (from peft) (25.0)\n",
            "Requirement already satisfied: psutil in /usr/local/lib/python3.12/dist-packages (from peft) (5.9.5)\n",
            "Requirement already satisfied: pyyaml in /usr/local/lib/python3.12/dist-packages (from peft) (6.0.2)\n",
            "Requirement already satisfied: tqdm in /usr/local/lib/python3.12/dist-packages (from peft) (4.67.1)\n",
            "Requirement already satisfied: safetensors in /usr/local/lib/python3.12/dist-packages (from peft) (0.6.2)\n",
            "Requirement already satisfied: huggingface_hub>=0.25.0 in /usr/local/lib/python3.12/dist-packages (from peft) (0.34.4)\n",
            "Requirement already satisfied: filelock in /usr/local/lib/python3.12/dist-packages (from datasets>=3.0.0->trl) (3.19.1)\n",
            "Requirement already satisfied: pyarrow>=15.0.0 in /usr/local/lib/python3.12/dist-packages (from datasets>=3.0.0->trl) (18.1.0)\n",
            "Requirement already satisfied: dill<0.3.9,>=0.3.0 in /usr/local/lib/python3.12/dist-packages (from datasets>=3.0.0->trl) (0.3.8)\n",
            "Requirement already satisfied: pandas in /usr/local/lib/python3.12/dist-packages (from datasets>=3.0.0->trl) (2.2.2)\n",
            "Requirement already satisfied: requests>=2.32.2 in /usr/local/lib/python3.12/dist-packages (from datasets>=3.0.0->trl) (2.32.4)\n",
            "Requirement already satisfied: xxhash in /usr/local/lib/python3.12/dist-packages (from datasets>=3.0.0->trl) (3.5.0)\n",
            "Requirement already satisfied: multiprocess<0.70.17 in /usr/local/lib/python3.12/dist-packages (from datasets>=3.0.0->trl) (0.70.16)\n",
            "Requirement already satisfied: fsspec<=2025.3.0,>=2023.1.0 in /usr/local/lib/python3.12/dist-packages (from fsspec[http]<=2025.3.0,>=2023.1.0->datasets>=3.0.0->trl) (2025.3.0)\n",
            "Requirement already satisfied: typing-extensions>=3.7.4.3 in /usr/local/lib/python3.12/dist-packages (from huggingface_hub>=0.25.0->peft) (4.15.0)\n",
            "Requirement already satisfied: hf-xet<2.0.0,>=1.1.3 in /usr/local/lib/python3.12/dist-packages (from huggingface_hub>=0.25.0->peft) (1.1.9)\n",
            "Requirement already satisfied: setuptools in /usr/local/lib/python3.12/dist-packages (from torch<3,>=2.2->bitsandbytes) (75.2.0)\n",
            "Requirement already satisfied: sympy>=1.13.3 in /usr/local/lib/python3.12/dist-packages (from torch<3,>=2.2->bitsandbytes) (1.13.3)\n",
            "Requirement already satisfied: networkx in /usr/local/lib/python3.12/dist-packages (from torch<3,>=2.2->bitsandbytes) (3.5)\n",
            "Requirement already satisfied: jinja2 in /usr/local/lib/python3.12/dist-packages (from torch<3,>=2.2->bitsandbytes) (3.1.6)\n",
            "Requirement already satisfied: nvidia-cuda-nvrtc-cu12==12.6.77 in /usr/local/lib/python3.12/dist-packages (from torch<3,>=2.2->bitsandbytes) (12.6.77)\n",
            "Requirement already satisfied: nvidia-cuda-runtime-cu12==12.6.77 in /usr/local/lib/python3.12/dist-packages (from torch<3,>=2.2->bitsandbytes) (12.6.77)\n",
            "Requirement already satisfied: nvidia-cuda-cupti-cu12==12.6.80 in /usr/local/lib/python3.12/dist-packages (from torch<3,>=2.2->bitsandbytes) (12.6.80)\n",
            "Requirement already satisfied: nvidia-cudnn-cu12==9.10.2.21 in /usr/local/lib/python3.12/dist-packages (from torch<3,>=2.2->bitsandbytes) (9.10.2.21)\n",
            "Requirement already satisfied: nvidia-cublas-cu12==12.6.4.1 in /usr/local/lib/python3.12/dist-packages (from torch<3,>=2.2->bitsandbytes) (12.6.4.1)\n",
            "Requirement already satisfied: nvidia-cufft-cu12==11.3.0.4 in /usr/local/lib/python3.12/dist-packages (from torch<3,>=2.2->bitsandbytes) (11.3.0.4)\n",
            "Requirement already satisfied: nvidia-curand-cu12==10.3.7.77 in /usr/local/lib/python3.12/dist-packages (from torch<3,>=2.2->bitsandbytes) (10.3.7.77)\n",
            "Requirement already satisfied: nvidia-cusolver-cu12==11.7.1.2 in /usr/local/lib/python3.12/dist-packages (from torch<3,>=2.2->bitsandbytes) (11.7.1.2)\n",
            "Requirement already satisfied: nvidia-cusparse-cu12==12.5.4.2 in /usr/local/lib/python3.12/dist-packages (from torch<3,>=2.2->bitsandbytes) (12.5.4.2)\n",
            "Requirement already satisfied: nvidia-cusparselt-cu12==0.7.1 in /usr/local/lib/python3.12/dist-packages (from torch<3,>=2.2->bitsandbytes) (0.7.1)\n",
            "Requirement already satisfied: nvidia-nccl-cu12==2.27.3 in /usr/local/lib/python3.12/dist-packages (from torch<3,>=2.2->bitsandbytes) (2.27.3)\n",
            "Requirement already satisfied: nvidia-nvtx-cu12==12.6.77 in /usr/local/lib/python3.12/dist-packages (from torch<3,>=2.2->bitsandbytes) (12.6.77)\n",
            "Requirement already satisfied: nvidia-nvjitlink-cu12==12.6.85 in /usr/local/lib/python3.12/dist-packages (from torch<3,>=2.2->bitsandbytes) (12.6.85)\n",
            "Requirement already satisfied: nvidia-cufile-cu12==1.11.1.6 in /usr/local/lib/python3.12/dist-packages (from torch<3,>=2.2->bitsandbytes) (1.11.1.6)\n",
            "Requirement already satisfied: triton==3.4.0 in /usr/local/lib/python3.12/dist-packages (from torch<3,>=2.2->bitsandbytes) (3.4.0)\n",
            "Requirement already satisfied: regex!=2019.12.17 in /usr/local/lib/python3.12/dist-packages (from transformers>=4.56.1->trl) (2024.11.6)\n",
            "Requirement already satisfied: tokenizers<=0.23.0,>=0.22.0 in /usr/local/lib/python3.12/dist-packages (from transformers>=4.56.1->trl) (0.22.0)\n",
            "Requirement already satisfied: aiohttp!=4.0.0a0,!=4.0.0a1 in /usr/local/lib/python3.12/dist-packages (from fsspec[http]<=2025.3.0,>=2023.1.0->datasets>=3.0.0->trl) (3.12.15)\n",
            "Requirement already satisfied: charset_normalizer<4,>=2 in /usr/local/lib/python3.12/dist-packages (from requests>=2.32.2->datasets>=3.0.0->trl) (3.4.3)\n",
            "Requirement already satisfied: idna<4,>=2.5 in /usr/local/lib/python3.12/dist-packages (from requests>=2.32.2->datasets>=3.0.0->trl) (3.10)\n",
            "Requirement already satisfied: urllib3<3,>=1.21.1 in /usr/local/lib/python3.12/dist-packages (from requests>=2.32.2->datasets>=3.0.0->trl) (2.5.0)\n",
            "Requirement already satisfied: certifi>=2017.4.17 in /usr/local/lib/python3.12/dist-packages (from requests>=2.32.2->datasets>=3.0.0->trl) (2025.8.3)\n",
            "Requirement already satisfied: mpmath<1.4,>=1.1.0 in /usr/local/lib/python3.12/dist-packages (from sympy>=1.13.3->torch<3,>=2.2->bitsandbytes) (1.3.0)\n",
            "Requirement already satisfied: MarkupSafe>=2.0 in /usr/local/lib/python3.12/dist-packages (from jinja2->torch<3,>=2.2->bitsandbytes) (3.0.2)\n",
            "Requirement already satisfied: python-dateutil>=2.8.2 in /usr/local/lib/python3.12/dist-packages (from pandas->datasets>=3.0.0->trl) (2.9.0.post0)\n",
            "Requirement already satisfied: pytz>=2020.1 in /usr/local/lib/python3.12/dist-packages (from pandas->datasets>=3.0.0->trl) (2025.2)\n",
            "Requirement already satisfied: tzdata>=2022.7 in /usr/local/lib/python3.12/dist-packages (from pandas->datasets>=3.0.0->trl) (2025.2)\n",
            "Requirement already satisfied: aiohappyeyeballs>=2.5.0 in /usr/local/lib/python3.12/dist-packages (from aiohttp!=4.0.0a0,!=4.0.0a1->fsspec[http]<=2025.3.0,>=2023.1.0->datasets>=3.0.0->trl) (2.6.1)\n",
            "Requirement already satisfied: aiosignal>=1.4.0 in /usr/local/lib/python3.12/dist-packages (from aiohttp!=4.0.0a0,!=4.0.0a1->fsspec[http]<=2025.3.0,>=2023.1.0->datasets>=3.0.0->trl) (1.4.0)\n",
            "Requirement already satisfied: attrs>=17.3.0 in /usr/local/lib/python3.12/dist-packages (from aiohttp!=4.0.0a0,!=4.0.0a1->fsspec[http]<=2025.3.0,>=2023.1.0->datasets>=3.0.0->trl) (25.3.0)\n",
            "Requirement already satisfied: frozenlist>=1.1.1 in /usr/local/lib/python3.12/dist-packages (from aiohttp!=4.0.0a0,!=4.0.0a1->fsspec[http]<=2025.3.0,>=2023.1.0->datasets>=3.0.0->trl) (1.7.0)\n",
            "Requirement already satisfied: multidict<7.0,>=4.5 in /usr/local/lib/python3.12/dist-packages (from aiohttp!=4.0.0a0,!=4.0.0a1->fsspec[http]<=2025.3.0,>=2023.1.0->datasets>=3.0.0->trl) (6.6.4)\n",
            "Requirement already satisfied: propcache>=0.2.0 in /usr/local/lib/python3.12/dist-packages (from aiohttp!=4.0.0a0,!=4.0.0a1->fsspec[http]<=2025.3.0,>=2023.1.0->datasets>=3.0.0->trl) (0.3.2)\n",
            "Requirement already satisfied: yarl<2.0,>=1.17.0 in /usr/local/lib/python3.12/dist-packages (from aiohttp!=4.0.0a0,!=4.0.0a1->fsspec[http]<=2025.3.0,>=2023.1.0->datasets>=3.0.0->trl) (1.20.1)\n",
            "Requirement already satisfied: six>=1.5 in /usr/local/lib/python3.12/dist-packages (from python-dateutil>=2.8.2->pandas->datasets>=3.0.0->trl) (1.17.0)\n"
          ]
        }
      ],
      "source": [
        "!pip install trl bitsandbytes peft"
      ]
    },
    {
      "cell_type": "code",
      "execution_count": 8,
      "metadata": {
        "id": "LawJMEr7VTmO"
      },
      "outputs": [],
      "source": [
        "import pandas as pd\n",
        "\n",
        "df = pd.read_excel(\"/content/drive/MyDrive/FSL_2025/new_initiative/data/Invoice_Data_Extracted.xlsx\")"
      ]
    },
    {
      "cell_type": "code",
      "execution_count": 9,
      "metadata": {
        "colab": {
          "base_uri": "https://localhost:8080/"
        },
        "id": "ylLZITZoV3ia",
        "outputId": "c2021a17-356f-4a4e-d287-a5215d7385a7"
      },
      "outputs": [
        {
          "output_type": "execute_result",
          "data": {
            "text/plain": [
              "57"
            ]
          },
          "metadata": {},
          "execution_count": 9
        }
      ],
      "source": [
        "df['field_name'].nunique()"
      ]
    },
    {
      "cell_type": "code",
      "execution_count": 10,
      "metadata": {
        "colab": {
          "base_uri": "https://localhost:8080/",
          "height": 206
        },
        "id": "JFF2gXbxV5T6",
        "outputId": "170d9ed6-1e38-4ef8-929e-fa45944f4f12"
      },
      "outputs": [
        {
          "output_type": "execute_result",
          "data": {
            "text/plain": [
              "                filename             vendor_name          field_name  \\\n",
              "0  GHX9J0EIM.007_002.jpg  MEDLINE INDUSTRIES INC  INV_VendorFullName   \n",
              "1  GHX9J0EIM.008_002.jpg  MEDLINE INDUSTRIES INC  INV_VendorFullName   \n",
              "2  GHX9H0M7M.015_002.jpg  MEDLINE INDUSTRIES INC  INV_VendorFullName   \n",
              "3  GHX9J0C5M.001_002.jpg  MEDLINE INDUSTRIES INC  INV_VendorFullName   \n",
              "4  GHX9K0FQM.011_002.jpg  MEDLINE INDUSTRIES INC  INV_VendorFullName   \n",
              "\n",
              "             ground_truth  \n",
              "0  Medline Industries, LP  \n",
              "1  Medline Industries, LP  \n",
              "2  Medline Industries, LP  \n",
              "3  Medline Industries, LP  \n",
              "4  Medline Industries, LP  "
            ],
            "text/html": [
              "\n",
              "  <div id=\"df-a7260c02-cbdd-43ba-8233-e1b049b37e14\" class=\"colab-df-container\">\n",
              "    <div>\n",
              "<style scoped>\n",
              "    .dataframe tbody tr th:only-of-type {\n",
              "        vertical-align: middle;\n",
              "    }\n",
              "\n",
              "    .dataframe tbody tr th {\n",
              "        vertical-align: top;\n",
              "    }\n",
              "\n",
              "    .dataframe thead th {\n",
              "        text-align: right;\n",
              "    }\n",
              "</style>\n",
              "<table border=\"1\" class=\"dataframe\">\n",
              "  <thead>\n",
              "    <tr style=\"text-align: right;\">\n",
              "      <th></th>\n",
              "      <th>filename</th>\n",
              "      <th>vendor_name</th>\n",
              "      <th>field_name</th>\n",
              "      <th>ground_truth</th>\n",
              "    </tr>\n",
              "  </thead>\n",
              "  <tbody>\n",
              "    <tr>\n",
              "      <th>0</th>\n",
              "      <td>GHX9J0EIM.007_002.jpg</td>\n",
              "      <td>MEDLINE INDUSTRIES INC</td>\n",
              "      <td>INV_VendorFullName</td>\n",
              "      <td>Medline Industries, LP</td>\n",
              "    </tr>\n",
              "    <tr>\n",
              "      <th>1</th>\n",
              "      <td>GHX9J0EIM.008_002.jpg</td>\n",
              "      <td>MEDLINE INDUSTRIES INC</td>\n",
              "      <td>INV_VendorFullName</td>\n",
              "      <td>Medline Industries, LP</td>\n",
              "    </tr>\n",
              "    <tr>\n",
              "      <th>2</th>\n",
              "      <td>GHX9H0M7M.015_002.jpg</td>\n",
              "      <td>MEDLINE INDUSTRIES INC</td>\n",
              "      <td>INV_VendorFullName</td>\n",
              "      <td>Medline Industries, LP</td>\n",
              "    </tr>\n",
              "    <tr>\n",
              "      <th>3</th>\n",
              "      <td>GHX9J0C5M.001_002.jpg</td>\n",
              "      <td>MEDLINE INDUSTRIES INC</td>\n",
              "      <td>INV_VendorFullName</td>\n",
              "      <td>Medline Industries, LP</td>\n",
              "    </tr>\n",
              "    <tr>\n",
              "      <th>4</th>\n",
              "      <td>GHX9K0FQM.011_002.jpg</td>\n",
              "      <td>MEDLINE INDUSTRIES INC</td>\n",
              "      <td>INV_VendorFullName</td>\n",
              "      <td>Medline Industries, LP</td>\n",
              "    </tr>\n",
              "  </tbody>\n",
              "</table>\n",
              "</div>\n",
              "    <div class=\"colab-df-buttons\">\n",
              "\n",
              "  <div class=\"colab-df-container\">\n",
              "    <button class=\"colab-df-convert\" onclick=\"convertToInteractive('df-a7260c02-cbdd-43ba-8233-e1b049b37e14')\"\n",
              "            title=\"Convert this dataframe to an interactive table.\"\n",
              "            style=\"display:none;\">\n",
              "\n",
              "  <svg xmlns=\"http://www.w3.org/2000/svg\" height=\"24px\" viewBox=\"0 -960 960 960\">\n",
              "    <path d=\"M120-120v-720h720v720H120Zm60-500h600v-160H180v160Zm220 220h160v-160H400v160Zm0 220h160v-160H400v160ZM180-400h160v-160H180v160Zm440 0h160v-160H620v160ZM180-180h160v-160H180v160Zm440 0h160v-160H620v160Z\"/>\n",
              "  </svg>\n",
              "    </button>\n",
              "\n",
              "  <style>\n",
              "    .colab-df-container {\n",
              "      display:flex;\n",
              "      gap: 12px;\n",
              "    }\n",
              "\n",
              "    .colab-df-convert {\n",
              "      background-color: #E8F0FE;\n",
              "      border: none;\n",
              "      border-radius: 50%;\n",
              "      cursor: pointer;\n",
              "      display: none;\n",
              "      fill: #1967D2;\n",
              "      height: 32px;\n",
              "      padding: 0 0 0 0;\n",
              "      width: 32px;\n",
              "    }\n",
              "\n",
              "    .colab-df-convert:hover {\n",
              "      background-color: #E2EBFA;\n",
              "      box-shadow: 0px 1px 2px rgba(60, 64, 67, 0.3), 0px 1px 3px 1px rgba(60, 64, 67, 0.15);\n",
              "      fill: #174EA6;\n",
              "    }\n",
              "\n",
              "    .colab-df-buttons div {\n",
              "      margin-bottom: 4px;\n",
              "    }\n",
              "\n",
              "    [theme=dark] .colab-df-convert {\n",
              "      background-color: #3B4455;\n",
              "      fill: #D2E3FC;\n",
              "    }\n",
              "\n",
              "    [theme=dark] .colab-df-convert:hover {\n",
              "      background-color: #434B5C;\n",
              "      box-shadow: 0px 1px 3px 1px rgba(0, 0, 0, 0.15);\n",
              "      filter: drop-shadow(0px 1px 2px rgba(0, 0, 0, 0.3));\n",
              "      fill: #FFFFFF;\n",
              "    }\n",
              "  </style>\n",
              "\n",
              "    <script>\n",
              "      const buttonEl =\n",
              "        document.querySelector('#df-a7260c02-cbdd-43ba-8233-e1b049b37e14 button.colab-df-convert');\n",
              "      buttonEl.style.display =\n",
              "        google.colab.kernel.accessAllowed ? 'block' : 'none';\n",
              "\n",
              "      async function convertToInteractive(key) {\n",
              "        const element = document.querySelector('#df-a7260c02-cbdd-43ba-8233-e1b049b37e14');\n",
              "        const dataTable =\n",
              "          await google.colab.kernel.invokeFunction('convertToInteractive',\n",
              "                                                    [key], {});\n",
              "        if (!dataTable) return;\n",
              "\n",
              "        const docLinkHtml = 'Like what you see? Visit the ' +\n",
              "          '<a target=\"_blank\" href=https://colab.research.google.com/notebooks/data_table.ipynb>data table notebook</a>'\n",
              "          + ' to learn more about interactive tables.';\n",
              "        element.innerHTML = '';\n",
              "        dataTable['output_type'] = 'display_data';\n",
              "        await google.colab.output.renderOutput(dataTable, element);\n",
              "        const docLink = document.createElement('div');\n",
              "        docLink.innerHTML = docLinkHtml;\n",
              "        element.appendChild(docLink);\n",
              "      }\n",
              "    </script>\n",
              "  </div>\n",
              "\n",
              "\n",
              "    <div id=\"df-e43537b9-12c3-4546-8b42-49580e83a4a9\">\n",
              "      <button class=\"colab-df-quickchart\" onclick=\"quickchart('df-e43537b9-12c3-4546-8b42-49580e83a4a9')\"\n",
              "                title=\"Suggest charts\"\n",
              "                style=\"display:none;\">\n",
              "\n",
              "<svg xmlns=\"http://www.w3.org/2000/svg\" height=\"24px\"viewBox=\"0 0 24 24\"\n",
              "     width=\"24px\">\n",
              "    <g>\n",
              "        <path d=\"M19 3H5c-1.1 0-2 .9-2 2v14c0 1.1.9 2 2 2h14c1.1 0 2-.9 2-2V5c0-1.1-.9-2-2-2zM9 17H7v-7h2v7zm4 0h-2V7h2v10zm4 0h-2v-4h2v4z\"/>\n",
              "    </g>\n",
              "</svg>\n",
              "      </button>\n",
              "\n",
              "<style>\n",
              "  .colab-df-quickchart {\n",
              "      --bg-color: #E8F0FE;\n",
              "      --fill-color: #1967D2;\n",
              "      --hover-bg-color: #E2EBFA;\n",
              "      --hover-fill-color: #174EA6;\n",
              "      --disabled-fill-color: #AAA;\n",
              "      --disabled-bg-color: #DDD;\n",
              "  }\n",
              "\n",
              "  [theme=dark] .colab-df-quickchart {\n",
              "      --bg-color: #3B4455;\n",
              "      --fill-color: #D2E3FC;\n",
              "      --hover-bg-color: #434B5C;\n",
              "      --hover-fill-color: #FFFFFF;\n",
              "      --disabled-bg-color: #3B4455;\n",
              "      --disabled-fill-color: #666;\n",
              "  }\n",
              "\n",
              "  .colab-df-quickchart {\n",
              "    background-color: var(--bg-color);\n",
              "    border: none;\n",
              "    border-radius: 50%;\n",
              "    cursor: pointer;\n",
              "    display: none;\n",
              "    fill: var(--fill-color);\n",
              "    height: 32px;\n",
              "    padding: 0;\n",
              "    width: 32px;\n",
              "  }\n",
              "\n",
              "  .colab-df-quickchart:hover {\n",
              "    background-color: var(--hover-bg-color);\n",
              "    box-shadow: 0 1px 2px rgba(60, 64, 67, 0.3), 0 1px 3px 1px rgba(60, 64, 67, 0.15);\n",
              "    fill: var(--button-hover-fill-color);\n",
              "  }\n",
              "\n",
              "  .colab-df-quickchart-complete:disabled,\n",
              "  .colab-df-quickchart-complete:disabled:hover {\n",
              "    background-color: var(--disabled-bg-color);\n",
              "    fill: var(--disabled-fill-color);\n",
              "    box-shadow: none;\n",
              "  }\n",
              "\n",
              "  .colab-df-spinner {\n",
              "    border: 2px solid var(--fill-color);\n",
              "    border-color: transparent;\n",
              "    border-bottom-color: var(--fill-color);\n",
              "    animation:\n",
              "      spin 1s steps(1) infinite;\n",
              "  }\n",
              "\n",
              "  @keyframes spin {\n",
              "    0% {\n",
              "      border-color: transparent;\n",
              "      border-bottom-color: var(--fill-color);\n",
              "      border-left-color: var(--fill-color);\n",
              "    }\n",
              "    20% {\n",
              "      border-color: transparent;\n",
              "      border-left-color: var(--fill-color);\n",
              "      border-top-color: var(--fill-color);\n",
              "    }\n",
              "    30% {\n",
              "      border-color: transparent;\n",
              "      border-left-color: var(--fill-color);\n",
              "      border-top-color: var(--fill-color);\n",
              "      border-right-color: var(--fill-color);\n",
              "    }\n",
              "    40% {\n",
              "      border-color: transparent;\n",
              "      border-right-color: var(--fill-color);\n",
              "      border-top-color: var(--fill-color);\n",
              "    }\n",
              "    60% {\n",
              "      border-color: transparent;\n",
              "      border-right-color: var(--fill-color);\n",
              "    }\n",
              "    80% {\n",
              "      border-color: transparent;\n",
              "      border-right-color: var(--fill-color);\n",
              "      border-bottom-color: var(--fill-color);\n",
              "    }\n",
              "    90% {\n",
              "      border-color: transparent;\n",
              "      border-bottom-color: var(--fill-color);\n",
              "    }\n",
              "  }\n",
              "</style>\n",
              "\n",
              "      <script>\n",
              "        async function quickchart(key) {\n",
              "          const quickchartButtonEl =\n",
              "            document.querySelector('#' + key + ' button');\n",
              "          quickchartButtonEl.disabled = true;  // To prevent multiple clicks.\n",
              "          quickchartButtonEl.classList.add('colab-df-spinner');\n",
              "          try {\n",
              "            const charts = await google.colab.kernel.invokeFunction(\n",
              "                'suggestCharts', [key], {});\n",
              "          } catch (error) {\n",
              "            console.error('Error during call to suggestCharts:', error);\n",
              "          }\n",
              "          quickchartButtonEl.classList.remove('colab-df-spinner');\n",
              "          quickchartButtonEl.classList.add('colab-df-quickchart-complete');\n",
              "        }\n",
              "        (() => {\n",
              "          let quickchartButtonEl =\n",
              "            document.querySelector('#df-e43537b9-12c3-4546-8b42-49580e83a4a9 button');\n",
              "          quickchartButtonEl.style.display =\n",
              "            google.colab.kernel.accessAllowed ? 'block' : 'none';\n",
              "        })();\n",
              "      </script>\n",
              "    </div>\n",
              "\n",
              "    </div>\n",
              "  </div>\n"
            ],
            "application/vnd.google.colaboratory.intrinsic+json": {
              "type": "dataframe",
              "variable_name": "df",
              "summary": "{\n  \"name\": \"df\",\n  \"rows\": 7574,\n  \"fields\": [\n    {\n      \"column\": \"filename\",\n      \"properties\": {\n        \"dtype\": \"category\",\n        \"num_unique_values\": 300,\n        \"samples\": [\n          \"GHX9J0G3M.006_002.jpg\",\n          \"GHX9H0LIM.015_002.jpg\",\n          \"GHX9H0KPM.009_002.jpg\"\n        ],\n        \"semantic_type\": \"\",\n        \"description\": \"\"\n      }\n    },\n    {\n      \"column\": \"vendor_name\",\n      \"properties\": {\n        \"dtype\": \"category\",\n        \"num_unique_values\": 3,\n        \"samples\": [\n          \"MEDLINE INDUSTRIES INC\",\n          \"BOSTON SCIENTIFIC CORPORATION\",\n          \"ARTHREX INC\"\n        ],\n        \"semantic_type\": \"\",\n        \"description\": \"\"\n      }\n    },\n    {\n      \"column\": \"field_name\",\n      \"properties\": {\n        \"dtype\": \"category\",\n        \"num_unique_values\": 57,\n        \"samples\": [\n          \"INV_VendorFullName\",\n          \"INV_VAT\",\n          \"INV_Quantity_3\"\n        ],\n        \"semantic_type\": \"\",\n        \"description\": \"\"\n      }\n    },\n    {\n      \"column\": \"ground_truth\",\n      \"properties\": {\n        \"dtype\": \"category\",\n        \"num_unique_values\": 3107,\n        \"samples\": [\n          \"NONPC1000\",\n          \"SAD2303\",\n          \"/MASK, PROCEDURE, LEVEL1\"\n        ],\n        \"semantic_type\": \"\",\n        \"description\": \"\"\n      }\n    }\n  ]\n}"
            }
          },
          "metadata": {},
          "execution_count": 10
        }
      ],
      "source": [
        "df.head()"
      ]
    },
    {
      "cell_type": "code",
      "execution_count": 11,
      "metadata": {
        "id": "x5DdZipkWBaP"
      },
      "outputs": [],
      "source": [
        "# Get unique filenames and field names\n",
        "filenames = df['filename'].unique()\n",
        "field_names = df['field_name'].unique()\n",
        "\n",
        "# Final dictionary\n",
        "result = {}\n",
        "\n",
        "for file_name in filenames:\n",
        "    temp = df[df['filename'] == file_name]\n",
        "    result[file_name] = {}\n",
        "    for field_name in field_names:\n",
        "        temp_df = temp[temp['field_name'] == field_name]\n",
        "        if not temp_df.empty:\n",
        "            # take first value (or join if multiple)\n",
        "            value = temp_df['ground_truth'].iloc[0]\n",
        "        else:\n",
        "            value = \"\"  # empty string if not present\n",
        "        result[file_name][field_name] = value"
      ]
    },
    {
      "cell_type": "code",
      "execution_count": 12,
      "metadata": {
        "id": "rbqqBneDWHEs"
      },
      "outputs": [],
      "source": [
        "import json\n",
        "for key in result.keys():\n",
        "  result[key] = json.dumps(result[key])"
      ]
    },
    {
      "cell_type": "code",
      "execution_count": 13,
      "metadata": {
        "colab": {
          "base_uri": "https://localhost:8080/",
          "height": 123
        },
        "id": "E8Uxz_iXXy5j",
        "outputId": "270f076d-02dd-4d81-cf1d-04b46bb1298c"
      },
      "outputs": [
        {
          "output_type": "execute_result",
          "data": {
            "text/plain": [
              "'{\"INV_VendorFullName\": \"Boston Scientific Corporation\", \"INV_InvoiceNumber\": 701873316, \"INV_PurchaseOrderNo\": 588199, \"INV_InvoiceDate\": 45635, \"INV_AccountNumber\": 316869, \"INV_VAT\": 0, \"INV_ShipToAddress1\": \"1604 6TH AVE S DOCK A\", \"INV_ShipToState\": \"AL\", \"INV_ShipToPostCode\": 35233, \"INV_TotalAmount\": 4407, \"INV_ShipToFullName\": \"CHILDRENS HOSPITAL\", \"INV_ExtdPrice_0\": 2195, \"INV_Description_0\": \"S MEGATRON US MR 5.00 X 20MM\", \"INV_VendorCatalogNo_0\": \"H7493942820500\", \"INV_Quantity_0\": -1, \"INV_ExtdPrice_1\": 2195, \"INV_Description_1\": \"S MEGATRON US MR 5.00 X 16MM\", \"INV_VendorCatalogNo_1\": \"H7493942816500\", \"INV_Quantity_1\": \"-\", \"INV_ExtdPrice_2\": \"\", \"INV_Description_2\": \"\", \"INV_VendorCatalogNo_2\": \"\", \"INV_Quantity_2\": \"\", \"INV_ShipToCity\": \"BIRMINGHAM\", \"INV_UOM_1\": \"\", \"INV_FreightCharge\": 17, \"INV_UOM_0\": \"\", \"INV_ExtdPrice_3\": \"\", \"INV_Description_3\": \"\", \"INV_VendorCatalogNo_3\": \"\", \"INV_Quantity_3\": \"\", \"INV_ExtdPrice_4\": \"\", \"INV_Description_4\": \"\", \"INV_VendorCatalogNo_4\": \"\", \"INV_Quantity_4\": \"\", \"INV_ExtdPrice_5\": \"\", \"INV_Description_5\": \"\", \"INV_VendorCatalogNo_5\": \"\", \"INV_Quantity_5\": \"\", \"INV_VendorCatalogNo_7\": \"\", \"INV_VendorCatalogNo_6\": \"\", \"INV_ExtdPrice_6\": \"\", \"INV_Description_6\": \"\", \"INV_Quantity_6\": \"\", \"INV_UOM_2\": \"\", \"INV_UOM_3\": \"\", \"INV_UOM_7\": \"\", \"INV_UOM_6\": \"\", \"INV_UOM_5\": \"\", \"INV_UOM_4\": \"\", \"INV_ExtdPrice_7\": \"\", \"INV_Description_7\": \"\", \"INV_Quantity_7\": \"\", \"INV_ExtdPrice_8\": \"\", \"INV_Description_8\": \"\", \"INV_VendorCatalogNo_8\": \"\", \"INV_Quantity_8\": \"\"}'"
            ],
            "application/vnd.google.colaboratory.intrinsic+json": {
              "type": "string"
            }
          },
          "metadata": {},
          "execution_count": 13
        }
      ],
      "source": [
        "result['GHX9K02DS.001_001.jpg']"
      ]
    },
    {
      "cell_type": "code",
      "execution_count": 14,
      "metadata": {
        "colab": {
          "base_uri": "https://localhost:8080/",
          "height": 206
        },
        "id": "urtr2mNcbYbP",
        "outputId": "d3dafdfa-2d70-48dd-ec2b-31f2cc4f197f"
      },
      "outputs": [
        {
          "output_type": "execute_result",
          "data": {
            "text/plain": [
              "                filename             vendor_name          field_name  \\\n",
              "0  GHX9J0EIM.007_002.jpg  MEDLINE INDUSTRIES INC  INV_VendorFullName   \n",
              "1  GHX9J0EIM.008_002.jpg  MEDLINE INDUSTRIES INC  INV_VendorFullName   \n",
              "2  GHX9H0M7M.015_002.jpg  MEDLINE INDUSTRIES INC  INV_VendorFullName   \n",
              "3  GHX9J0C5M.001_002.jpg  MEDLINE INDUSTRIES INC  INV_VendorFullName   \n",
              "4  GHX9K0FQM.011_002.jpg  MEDLINE INDUSTRIES INC  INV_VendorFullName   \n",
              "\n",
              "             ground_truth  \n",
              "0  Medline Industries, LP  \n",
              "1  Medline Industries, LP  \n",
              "2  Medline Industries, LP  \n",
              "3  Medline Industries, LP  \n",
              "4  Medline Industries, LP  "
            ],
            "text/html": [
              "\n",
              "  <div id=\"df-0fe8a995-89a2-4f24-9676-07eab8b14394\" class=\"colab-df-container\">\n",
              "    <div>\n",
              "<style scoped>\n",
              "    .dataframe tbody tr th:only-of-type {\n",
              "        vertical-align: middle;\n",
              "    }\n",
              "\n",
              "    .dataframe tbody tr th {\n",
              "        vertical-align: top;\n",
              "    }\n",
              "\n",
              "    .dataframe thead th {\n",
              "        text-align: right;\n",
              "    }\n",
              "</style>\n",
              "<table border=\"1\" class=\"dataframe\">\n",
              "  <thead>\n",
              "    <tr style=\"text-align: right;\">\n",
              "      <th></th>\n",
              "      <th>filename</th>\n",
              "      <th>vendor_name</th>\n",
              "      <th>field_name</th>\n",
              "      <th>ground_truth</th>\n",
              "    </tr>\n",
              "  </thead>\n",
              "  <tbody>\n",
              "    <tr>\n",
              "      <th>0</th>\n",
              "      <td>GHX9J0EIM.007_002.jpg</td>\n",
              "      <td>MEDLINE INDUSTRIES INC</td>\n",
              "      <td>INV_VendorFullName</td>\n",
              "      <td>Medline Industries, LP</td>\n",
              "    </tr>\n",
              "    <tr>\n",
              "      <th>1</th>\n",
              "      <td>GHX9J0EIM.008_002.jpg</td>\n",
              "      <td>MEDLINE INDUSTRIES INC</td>\n",
              "      <td>INV_VendorFullName</td>\n",
              "      <td>Medline Industries, LP</td>\n",
              "    </tr>\n",
              "    <tr>\n",
              "      <th>2</th>\n",
              "      <td>GHX9H0M7M.015_002.jpg</td>\n",
              "      <td>MEDLINE INDUSTRIES INC</td>\n",
              "      <td>INV_VendorFullName</td>\n",
              "      <td>Medline Industries, LP</td>\n",
              "    </tr>\n",
              "    <tr>\n",
              "      <th>3</th>\n",
              "      <td>GHX9J0C5M.001_002.jpg</td>\n",
              "      <td>MEDLINE INDUSTRIES INC</td>\n",
              "      <td>INV_VendorFullName</td>\n",
              "      <td>Medline Industries, LP</td>\n",
              "    </tr>\n",
              "    <tr>\n",
              "      <th>4</th>\n",
              "      <td>GHX9K0FQM.011_002.jpg</td>\n",
              "      <td>MEDLINE INDUSTRIES INC</td>\n",
              "      <td>INV_VendorFullName</td>\n",
              "      <td>Medline Industries, LP</td>\n",
              "    </tr>\n",
              "  </tbody>\n",
              "</table>\n",
              "</div>\n",
              "    <div class=\"colab-df-buttons\">\n",
              "\n",
              "  <div class=\"colab-df-container\">\n",
              "    <button class=\"colab-df-convert\" onclick=\"convertToInteractive('df-0fe8a995-89a2-4f24-9676-07eab8b14394')\"\n",
              "            title=\"Convert this dataframe to an interactive table.\"\n",
              "            style=\"display:none;\">\n",
              "\n",
              "  <svg xmlns=\"http://www.w3.org/2000/svg\" height=\"24px\" viewBox=\"0 -960 960 960\">\n",
              "    <path d=\"M120-120v-720h720v720H120Zm60-500h600v-160H180v160Zm220 220h160v-160H400v160Zm0 220h160v-160H400v160ZM180-400h160v-160H180v160Zm440 0h160v-160H620v160ZM180-180h160v-160H180v160Zm440 0h160v-160H620v160Z\"/>\n",
              "  </svg>\n",
              "    </button>\n",
              "\n",
              "  <style>\n",
              "    .colab-df-container {\n",
              "      display:flex;\n",
              "      gap: 12px;\n",
              "    }\n",
              "\n",
              "    .colab-df-convert {\n",
              "      background-color: #E8F0FE;\n",
              "      border: none;\n",
              "      border-radius: 50%;\n",
              "      cursor: pointer;\n",
              "      display: none;\n",
              "      fill: #1967D2;\n",
              "      height: 32px;\n",
              "      padding: 0 0 0 0;\n",
              "      width: 32px;\n",
              "    }\n",
              "\n",
              "    .colab-df-convert:hover {\n",
              "      background-color: #E2EBFA;\n",
              "      box-shadow: 0px 1px 2px rgba(60, 64, 67, 0.3), 0px 1px 3px 1px rgba(60, 64, 67, 0.15);\n",
              "      fill: #174EA6;\n",
              "    }\n",
              "\n",
              "    .colab-df-buttons div {\n",
              "      margin-bottom: 4px;\n",
              "    }\n",
              "\n",
              "    [theme=dark] .colab-df-convert {\n",
              "      background-color: #3B4455;\n",
              "      fill: #D2E3FC;\n",
              "    }\n",
              "\n",
              "    [theme=dark] .colab-df-convert:hover {\n",
              "      background-color: #434B5C;\n",
              "      box-shadow: 0px 1px 3px 1px rgba(0, 0, 0, 0.15);\n",
              "      filter: drop-shadow(0px 1px 2px rgba(0, 0, 0, 0.3));\n",
              "      fill: #FFFFFF;\n",
              "    }\n",
              "  </style>\n",
              "\n",
              "    <script>\n",
              "      const buttonEl =\n",
              "        document.querySelector('#df-0fe8a995-89a2-4f24-9676-07eab8b14394 button.colab-df-convert');\n",
              "      buttonEl.style.display =\n",
              "        google.colab.kernel.accessAllowed ? 'block' : 'none';\n",
              "\n",
              "      async function convertToInteractive(key) {\n",
              "        const element = document.querySelector('#df-0fe8a995-89a2-4f24-9676-07eab8b14394');\n",
              "        const dataTable =\n",
              "          await google.colab.kernel.invokeFunction('convertToInteractive',\n",
              "                                                    [key], {});\n",
              "        if (!dataTable) return;\n",
              "\n",
              "        const docLinkHtml = 'Like what you see? Visit the ' +\n",
              "          '<a target=\"_blank\" href=https://colab.research.google.com/notebooks/data_table.ipynb>data table notebook</a>'\n",
              "          + ' to learn more about interactive tables.';\n",
              "        element.innerHTML = '';\n",
              "        dataTable['output_type'] = 'display_data';\n",
              "        await google.colab.output.renderOutput(dataTable, element);\n",
              "        const docLink = document.createElement('div');\n",
              "        docLink.innerHTML = docLinkHtml;\n",
              "        element.appendChild(docLink);\n",
              "      }\n",
              "    </script>\n",
              "  </div>\n",
              "\n",
              "\n",
              "    <div id=\"df-65bf7876-eb46-4dd8-a659-371064c3d84f\">\n",
              "      <button class=\"colab-df-quickchart\" onclick=\"quickchart('df-65bf7876-eb46-4dd8-a659-371064c3d84f')\"\n",
              "                title=\"Suggest charts\"\n",
              "                style=\"display:none;\">\n",
              "\n",
              "<svg xmlns=\"http://www.w3.org/2000/svg\" height=\"24px\"viewBox=\"0 0 24 24\"\n",
              "     width=\"24px\">\n",
              "    <g>\n",
              "        <path d=\"M19 3H5c-1.1 0-2 .9-2 2v14c0 1.1.9 2 2 2h14c1.1 0 2-.9 2-2V5c0-1.1-.9-2-2-2zM9 17H7v-7h2v7zm4 0h-2V7h2v10zm4 0h-2v-4h2v4z\"/>\n",
              "    </g>\n",
              "</svg>\n",
              "      </button>\n",
              "\n",
              "<style>\n",
              "  .colab-df-quickchart {\n",
              "      --bg-color: #E8F0FE;\n",
              "      --fill-color: #1967D2;\n",
              "      --hover-bg-color: #E2EBFA;\n",
              "      --hover-fill-color: #174EA6;\n",
              "      --disabled-fill-color: #AAA;\n",
              "      --disabled-bg-color: #DDD;\n",
              "  }\n",
              "\n",
              "  [theme=dark] .colab-df-quickchart {\n",
              "      --bg-color: #3B4455;\n",
              "      --fill-color: #D2E3FC;\n",
              "      --hover-bg-color: #434B5C;\n",
              "      --hover-fill-color: #FFFFFF;\n",
              "      --disabled-bg-color: #3B4455;\n",
              "      --disabled-fill-color: #666;\n",
              "  }\n",
              "\n",
              "  .colab-df-quickchart {\n",
              "    background-color: var(--bg-color);\n",
              "    border: none;\n",
              "    border-radius: 50%;\n",
              "    cursor: pointer;\n",
              "    display: none;\n",
              "    fill: var(--fill-color);\n",
              "    height: 32px;\n",
              "    padding: 0;\n",
              "    width: 32px;\n",
              "  }\n",
              "\n",
              "  .colab-df-quickchart:hover {\n",
              "    background-color: var(--hover-bg-color);\n",
              "    box-shadow: 0 1px 2px rgba(60, 64, 67, 0.3), 0 1px 3px 1px rgba(60, 64, 67, 0.15);\n",
              "    fill: var(--button-hover-fill-color);\n",
              "  }\n",
              "\n",
              "  .colab-df-quickchart-complete:disabled,\n",
              "  .colab-df-quickchart-complete:disabled:hover {\n",
              "    background-color: var(--disabled-bg-color);\n",
              "    fill: var(--disabled-fill-color);\n",
              "    box-shadow: none;\n",
              "  }\n",
              "\n",
              "  .colab-df-spinner {\n",
              "    border: 2px solid var(--fill-color);\n",
              "    border-color: transparent;\n",
              "    border-bottom-color: var(--fill-color);\n",
              "    animation:\n",
              "      spin 1s steps(1) infinite;\n",
              "  }\n",
              "\n",
              "  @keyframes spin {\n",
              "    0% {\n",
              "      border-color: transparent;\n",
              "      border-bottom-color: var(--fill-color);\n",
              "      border-left-color: var(--fill-color);\n",
              "    }\n",
              "    20% {\n",
              "      border-color: transparent;\n",
              "      border-left-color: var(--fill-color);\n",
              "      border-top-color: var(--fill-color);\n",
              "    }\n",
              "    30% {\n",
              "      border-color: transparent;\n",
              "      border-left-color: var(--fill-color);\n",
              "      border-top-color: var(--fill-color);\n",
              "      border-right-color: var(--fill-color);\n",
              "    }\n",
              "    40% {\n",
              "      border-color: transparent;\n",
              "      border-right-color: var(--fill-color);\n",
              "      border-top-color: var(--fill-color);\n",
              "    }\n",
              "    60% {\n",
              "      border-color: transparent;\n",
              "      border-right-color: var(--fill-color);\n",
              "    }\n",
              "    80% {\n",
              "      border-color: transparent;\n",
              "      border-right-color: var(--fill-color);\n",
              "      border-bottom-color: var(--fill-color);\n",
              "    }\n",
              "    90% {\n",
              "      border-color: transparent;\n",
              "      border-bottom-color: var(--fill-color);\n",
              "    }\n",
              "  }\n",
              "</style>\n",
              "\n",
              "      <script>\n",
              "        async function quickchart(key) {\n",
              "          const quickchartButtonEl =\n",
              "            document.querySelector('#' + key + ' button');\n",
              "          quickchartButtonEl.disabled = true;  // To prevent multiple clicks.\n",
              "          quickchartButtonEl.classList.add('colab-df-spinner');\n",
              "          try {\n",
              "            const charts = await google.colab.kernel.invokeFunction(\n",
              "                'suggestCharts', [key], {});\n",
              "          } catch (error) {\n",
              "            console.error('Error during call to suggestCharts:', error);\n",
              "          }\n",
              "          quickchartButtonEl.classList.remove('colab-df-spinner');\n",
              "          quickchartButtonEl.classList.add('colab-df-quickchart-complete');\n",
              "        }\n",
              "        (() => {\n",
              "          let quickchartButtonEl =\n",
              "            document.querySelector('#df-65bf7876-eb46-4dd8-a659-371064c3d84f button');\n",
              "          quickchartButtonEl.style.display =\n",
              "            google.colab.kernel.accessAllowed ? 'block' : 'none';\n",
              "        })();\n",
              "      </script>\n",
              "    </div>\n",
              "\n",
              "    </div>\n",
              "  </div>\n"
            ],
            "application/vnd.google.colaboratory.intrinsic+json": {
              "type": "dataframe",
              "variable_name": "df",
              "summary": "{\n  \"name\": \"df\",\n  \"rows\": 7574,\n  \"fields\": [\n    {\n      \"column\": \"filename\",\n      \"properties\": {\n        \"dtype\": \"category\",\n        \"num_unique_values\": 300,\n        \"samples\": [\n          \"GHX9J0G3M.006_002.jpg\",\n          \"GHX9H0LIM.015_002.jpg\",\n          \"GHX9H0KPM.009_002.jpg\"\n        ],\n        \"semantic_type\": \"\",\n        \"description\": \"\"\n      }\n    },\n    {\n      \"column\": \"vendor_name\",\n      \"properties\": {\n        \"dtype\": \"category\",\n        \"num_unique_values\": 3,\n        \"samples\": [\n          \"MEDLINE INDUSTRIES INC\",\n          \"BOSTON SCIENTIFIC CORPORATION\",\n          \"ARTHREX INC\"\n        ],\n        \"semantic_type\": \"\",\n        \"description\": \"\"\n      }\n    },\n    {\n      \"column\": \"field_name\",\n      \"properties\": {\n        \"dtype\": \"category\",\n        \"num_unique_values\": 57,\n        \"samples\": [\n          \"INV_VendorFullName\",\n          \"INV_VAT\",\n          \"INV_Quantity_3\"\n        ],\n        \"semantic_type\": \"\",\n        \"description\": \"\"\n      }\n    },\n    {\n      \"column\": \"ground_truth\",\n      \"properties\": {\n        \"dtype\": \"category\",\n        \"num_unique_values\": 3107,\n        \"samples\": [\n          \"NONPC1000\",\n          \"SAD2303\",\n          \"/MASK, PROCEDURE, LEVEL1\"\n        ],\n        \"semantic_type\": \"\",\n        \"description\": \"\"\n      }\n    }\n  ]\n}"
            }
          },
          "metadata": {},
          "execution_count": 14
        }
      ],
      "source": [
        "df.head()"
      ]
    },
    {
      "cell_type": "code",
      "execution_count": 15,
      "metadata": {
        "colab": {
          "base_uri": "https://localhost:8080/"
        },
        "id": "tKWz6XTQbMvN",
        "outputId": "2debe7dd-c3e3-4f3c-fe5e-882c389f0589"
      },
      "outputs": [
        {
          "output_type": "stream",
          "name": "stdout",
          "text": [
            "300\n"
          ]
        }
      ],
      "source": [
        "vendors = []\n",
        "for key in result.keys():\n",
        "    temp = df[df['filename'] == key]\n",
        "    if not temp.empty and 'vendor_name' in temp.columns:\n",
        "        vendors.append(temp['vendor_name'].iloc[0])\n",
        "    else:\n",
        "        vendors.append(\"\")\n",
        "\n",
        "print(len(vendors))"
      ]
    },
    {
      "cell_type": "code",
      "execution_count": 16,
      "metadata": {
        "colab": {
          "base_uri": "https://localhost:8080/"
        },
        "id": "eeOuQxniYSjX",
        "outputId": "868fad5a-7284-4c5e-843b-df1501d6d0a8"
      },
      "outputs": [
        {
          "output_type": "execute_result",
          "data": {
            "text/plain": [
              "{'image': <PIL.JpegImagePlugin.JpegImageFile image mode=RGB size=2550x3300>,\n",
              " 'ground_truth': '{\"INV_VendorFullName\": \"Medline Industries, LP\", \"INV_InvoiceNumber\": 2335776482, \"INV_PurchaseOrderNo\": \"P0040000279267\", \"INV_InvoiceDate\": \"09/18/2024\", \"INV_AccountNumber\": 1783460, \"INV_VAT\": 0, \"INV_ShipToAddress1\": \"702 MINOR AVE\", \"INV_ShipToState\": \"WA\", \"INV_ShipToPostCode\": \"98104-2146\", \"INV_TotalAmount\": \"$287.00\", \"INV_ShipToFullName\": \"SF-4IR1-IR ROOM 1 DEPLETION\", \"INV_ExtdPrice_0\": 287, \"INV_Description_0\": \"296791 /PORT,IMPLANTABLE,8FR, MRI, POWERPORT\", \"INV_VendorCatalogNo_0\": \"BAR1808000\", \"INV_Quantity_0\": 1, \"INV_ExtdPrice_1\": \"\", \"INV_Description_1\": \"\", \"INV_VendorCatalogNo_1\": \"\", \"INV_Quantity_1\": \"\", \"INV_ExtdPrice_2\": \"\", \"INV_Description_2\": \"\", \"INV_VendorCatalogNo_2\": \"\", \"INV_Quantity_2\": \"\", \"INV_ShipToCity\": \"SEATTLE\", \"INV_UOM_1\": \"\", \"INV_FreightCharge\": 0, \"INV_UOM_0\": \"EA\", \"INV_ExtdPrice_3\": \"\", \"INV_Description_3\": \"\", \"INV_VendorCatalogNo_3\": \"\", \"INV_Quantity_3\": \"\", \"INV_ExtdPrice_4\": \"\", \"INV_Description_4\": \"\", \"INV_VendorCatalogNo_4\": \"\", \"INV_Quantity_4\": \"\", \"INV_ExtdPrice_5\": \"\", \"INV_Description_5\": \"\", \"INV_VendorCatalogNo_5\": \"\", \"INV_Quantity_5\": \"\", \"INV_VendorCatalogNo_7\": \"\", \"INV_VendorCatalogNo_6\": \"\", \"INV_ExtdPrice_6\": \"\", \"INV_Description_6\": \"\", \"INV_Quantity_6\": \"\", \"INV_UOM_2\": \"\", \"INV_UOM_3\": \"\", \"INV_UOM_7\": \"\", \"INV_UOM_6\": \"\", \"INV_UOM_5\": \"\", \"INV_UOM_4\": \"\", \"INV_ExtdPrice_7\": \"\", \"INV_Description_7\": \"\", \"INV_Quantity_7\": \"\", \"INV_ExtdPrice_8\": \"\", \"INV_Description_8\": \"\", \"INV_VendorCatalogNo_8\": \"\", \"INV_Quantity_8\": \"\"}',\n",
              " 'vendors': 'MEDLINE INDUSTRIES INC'}"
            ]
          },
          "metadata": {},
          "execution_count": 16
        }
      ],
      "source": [
        "from datasets import Dataset, Features, Image, Value\n",
        "import pandas as pd\n",
        "\n",
        "# Build full image paths\n",
        "image_paths = [\n",
        "    \"/content/drive/MyDrive/FSL_2025/new_initiative/data/Invoice_Data/Invoice_Data/\" + fname\n",
        "    for fname in result.keys()\n",
        "]\n",
        "\n",
        "# Build dataframe\n",
        "df_result = pd.DataFrame({\n",
        "    \"image\": image_paths,\n",
        "    \"ground_truth\": list(result.values()),  # JSON strings\n",
        "    \"vendors\": vendors\n",
        "})\n",
        "\n",
        "# Define dataset features\n",
        "features = Features({\n",
        "    \"image\": Image(),\n",
        "    \"ground_truth\": Value(\"string\"),\n",
        "    \"vendors\": Value(\"string\")\n",
        "})\n",
        "\n",
        "# Convert to Hugging Face dataset\n",
        "hf_dataset = Dataset.from_pandas(df_result, features=features)\n",
        "\n",
        "# Inspect one example\n",
        "hf_dataset[0]"
      ]
    },
    {
      "cell_type": "code",
      "execution_count": 17,
      "metadata": {
        "colab": {
          "base_uri": "https://localhost:8080/"
        },
        "id": "dZybBW1OdBwg",
        "outputId": "7cdb9e2a-8cd8-45b2-af3d-a1d283ff0c65"
      },
      "outputs": [
        {
          "output_type": "stream",
          "name": "stdout",
          "text": [
            "Counter({'BOSTON SCIENTIFIC CORPORATION': 113, 'ARTHREX INC': 96, 'MEDLINE INDUSTRIES INC': 91})\n"
          ]
        }
      ],
      "source": [
        "from collections import Counter\n",
        "\n",
        "vendor_counts = Counter(hf_dataset['vendors'])\n",
        "print(vendor_counts)"
      ]
    },
    {
      "cell_type": "code",
      "execution_count": 18,
      "metadata": {
        "colab": {
          "base_uri": "https://localhost:8080/"
        },
        "id": "dQ3SEigrdglX",
        "outputId": "f176e01d-a39a-4b60-c7c9-15d70d4a2430"
      },
      "outputs": [
        {
          "output_type": "stream",
          "name": "stdout",
          "text": [
            "DatasetDict({\n",
            "    train: Dataset({\n",
            "        features: ['image', 'ground_truth', 'vendors'],\n",
            "        num_rows: 241\n",
            "    })\n",
            "    eval: Dataset({\n",
            "        features: ['image', 'ground_truth', 'vendors'],\n",
            "        num_rows: 59\n",
            "    })\n",
            "})\n",
            "Eval examples per vendor:\n",
            "ARTHREX INC 19\n",
            "BOSTON SCIENTIFIC CORPORATION 22\n",
            "MEDLINE INDUSTRIES INC 18\n"
          ]
        }
      ],
      "source": [
        "from datasets import Dataset, DatasetDict\n",
        "\n",
        "# Convert to Pandas for easier grouping\n",
        "df = hf_dataset.to_pandas()\n",
        "\n",
        "train_idx = []\n",
        "eval_idx = []\n",
        "\n",
        "# Group by vendor\n",
        "for vendor, group in df.groupby(\"vendors\"):\n",
        "    # Shuffle the group\n",
        "    group = group.sample(frac=1, random_state=42).reset_index()\n",
        "\n",
        "    # Compute 20% size (at least 1 if group is small)\n",
        "    n_eval = max(1, int(len(group) * 0.2))\n",
        "\n",
        "    # Split\n",
        "    eval_idx.extend(group.loc[:n_eval-1, \"index\"].tolist())\n",
        "    train_idx.extend(group.loc[n_eval:, \"index\"].tolist())\n",
        "\n",
        "# Split the dataset\n",
        "train_dataset = hf_dataset.select(train_idx)\n",
        "eval_dataset = hf_dataset.select(eval_idx)\n",
        "\n",
        "# Combine into DatasetDict\n",
        "dataset_dict = DatasetDict({\n",
        "    \"train\": train_dataset,\n",
        "    \"eval\": eval_dataset\n",
        "})\n",
        "\n",
        "# Inspect\n",
        "print(dataset_dict)\n",
        "print(\"Eval examples per vendor:\")\n",
        "for vendor, group in df.groupby(\"vendors\"):\n",
        "    count = sum([x['vendors'] == vendor for x in eval_dataset])\n",
        "    print(vendor, count)"
      ]
    },
    {
      "cell_type": "code",
      "execution_count": 19,
      "metadata": {
        "colab": {
          "base_uri": "https://localhost:8080/"
        },
        "id": "FLFfG3qwdgiZ",
        "outputId": "706baf32-8001-45da-f87e-049dc97ff97a"
      },
      "outputs": [
        {
          "output_type": "execute_result",
          "data": {
            "text/plain": [
              "Dataset({\n",
              "    features: ['image', 'ground_truth', 'vendors'],\n",
              "    num_rows: 59\n",
              "})"
            ]
          },
          "metadata": {},
          "execution_count": 19
        }
      ],
      "source": [
        "dataset_dict['eval']"
      ]
    },
    {
      "cell_type": "code",
      "execution_count": 20,
      "metadata": {
        "id": "DN_n9lcydgfZ"
      },
      "outputs": [],
      "source": [
        "system_message = \"\"\"\n",
        "You are an OCR model expert.\n",
        "Your task is to analyze images and return the extracted information in a well-structured, nested JSON format.\n",
        "\"\"\"\n",
        "import json\n",
        "\n",
        "def format_data(sample):\n",
        "    return {\n",
        "        \"images\": [sample[\"image\"]],\n",
        "        \"messages\": [\n",
        "            {\n",
        "                \"role\": \"system\",\n",
        "                \"content\": [{\"type\": \"text\", \"text\": system_message}],\n",
        "            },\n",
        "            {\n",
        "                \"role\": \"user\",\n",
        "                \"content\": [\n",
        "                    {\"type\": \"image\", \"image\": sample[\"image\"]}\n",
        "                ],\n",
        "            },\n",
        "            {\n",
        "                \"role\": \"assistant\",\n",
        "                \"content\": [\n",
        "                    {\n",
        "                        \"type\": \"text\",\n",
        "                        \"text\": f\"```json\\n{sample['ground_truth']}\\n```\"\n",
        "                    }\n",
        "                ],\n",
        "            },\n",
        "        ],\n",
        "    }\n",
        "\n",
        "train_dataset = dataset_dict[\"train\"]\n",
        "eval_dataset = dataset_dict[\"eval\"]\n",
        "\n",
        "# Apply your formatting function\n",
        "train_dataset = [format_data(sample) for sample in train_dataset]\n",
        "eval_dataset = [format_data(sample) for sample in eval_dataset]"
      ]
    },
    {
      "cell_type": "code",
      "execution_count": null,
      "metadata": {
        "id": "7oSpRSEMdgc8"
      },
      "outputs": [],
      "source": [
        "import torch\n",
        "from transformers import Gemma3ForConditionalGeneration, AutoProcessor"
      ]
    },
    {
      "cell_type": "code",
      "execution_count": null,
      "metadata": {
        "colab": {
          "base_uri": "https://localhost:8080/"
        },
        "id": "CB-SvNy9ZIda",
        "outputId": "788dd629-ae11-492a-de55-b05c11bbd3a2"
      },
      "outputs": [
        {
          "name": "stdout",
          "output_type": "stream",
          "text": [
            "GPU allocated memory: 0.00 GB\n",
            "GPU reserved memory: 0.00 GB\n"
          ]
        }
      ],
      "source": [
        "import gc\n",
        "import time\n",
        "\n",
        "\n",
        "def clear_memory():\n",
        "    # Delete variables if they exist in the current global scope\n",
        "    if \"inputs\" in globals():\n",
        "        del globals()[\"inputs\"]\n",
        "    if \"model\" in globals():\n",
        "        del globals()[\"model\"]\n",
        "    if \"processor\" in globals():\n",
        "        del globals()[\"processor\"]\n",
        "    if \"trainer\" in globals():\n",
        "        del globals()[\"trainer\"]\n",
        "    if \"peft_model\" in globals():\n",
        "        del globals()[\"peft_model\"]\n",
        "    if \"bnb_config\" in globals():\n",
        "        del globals()[\"bnb_config\"]\n",
        "    time.sleep(2)\n",
        "\n",
        "    # Garbage collection and clearing CUDA memory\n",
        "    gc.collect()\n",
        "    time.sleep(2)\n",
        "    torch.cuda.empty_cache()\n",
        "    torch.cuda.synchronize()\n",
        "    time.sleep(2)\n",
        "    gc.collect()\n",
        "    time.sleep(2)\n",
        "\n",
        "    print(f\"GPU allocated memory: {torch.cuda.memory_allocated() / 1024**3:.2f} GB\")\n",
        "    print(f\"GPU reserved memory: {torch.cuda.memory_reserved() / 1024**3:.2f} GB\")\n",
        "\n",
        "\n",
        "clear_memory()"
      ]
    },
    {
      "cell_type": "code",
      "execution_count": null,
      "metadata": {
        "id": "AEKDgiUviH0_"
      },
      "outputs": [],
      "source": [
        "model_id = \"google/gemma-3-4b-it\""
      ]
    },
    {
      "cell_type": "code",
      "execution_count": null,
      "metadata": {
        "colab": {
          "base_uri": "https://localhost:8080/",
          "height": 584,
          "referenced_widgets": [
            "0e2b9fcb62074ccb85ce85fc034900b1",
            "ee73dc91fee14443b89edc7aff3b4d00",
            "94088128ed994981b5d71d860fdfbde2",
            "d5db073a07174e0888fc298e5ee7ab32",
            "01be1e93bedb4c9c8c6cb790a03a5b4f",
            "1adf9e5e0cce4579968ad1f3c2ea8bcc",
            "a0b7b95f63bd490598a47db223daa55e",
            "d9f71addb9fe48cc913a596ce04fd051",
            "f0b8516e1cd3442a9093091a9a4d588a",
            "cd6f9ca40d3e4cae8eed9091d300fd80",
            "67b719c2ffed4a889349ba631f53ad49",
            "eb1d786c32d94fa8a086aa92ef52ea3e",
            "908d3b7885ac4cd4bb55313b4646a639",
            "e7491d7b8ac44fcebaf3cc2ed451784c",
            "4053e2526b6d483c80769e139b929e1a",
            "5765247a332f4e329976dd2cbe01361a",
            "e7aabe1eab8d4ec4ba8c0d3c94013c53",
            "da0a1bb8e4ee451fba6ad97113706164",
            "b9a383016f62481482bc69f43e8fe9e4",
            "f95c9985d173407096d94a0378935b89",
            "33ef7684ef0e4459809bbee90d30410c",
            "b67aa327fab046659954d0f22e64bd77",
            "a1d19e9d6a5d48818c6b9c079868a334",
            "acd44c0d6aa94bfa881c176d88ed16e3",
            "0955e8c7c1784e1f9a6dd9cd7663d941",
            "b7a1cb3e891d4e2fb704d4f3286e7b21",
            "442acda1cdcd46818fe22abc48dfa930",
            "b543159cf9d64027b8d3dae0dfb5d31c",
            "1fc901e6b47a41899983e33db191a9f8",
            "6bcf3125acc64078910e8af4a2051433",
            "7bb7718d35e341539cbf1f55e1f1ce57",
            "7efdb5cd1b6f45f1ae3261ca672ea2c1",
            "21a3d04d2c3c4e0ea2e29bca7f8ede0f",
            "f28c26d66e484c69a4e32416a7025c61",
            "b674a0d78c7e47af92bd956892a2c089",
            "c24cf79fe12b44459d1e30f0141b70eb",
            "67c4c43c387c484f80649ff92afb3907",
            "89e7c244211b4bf4b05cadb98df6b659",
            "a04b79afd9ef45d39fc2b3d60e226881",
            "9903b33a422d4a3fb78e9ae7bdfdf8cd",
            "054a37b8a84547d5bb6ecf712c5347ab",
            "9910b6caff6c43c5a73b18bd0f705781",
            "653b51c3f42e437eb02051021c75306c",
            "3bc4eddaa02544fc9912c5ad1cc549da",
            "35a2710be27140efb1e36f9021655bc2",
            "a9429fe3c9644afb85fb3fc590c689ba",
            "0013fc130f0c4311a8c059156c296703",
            "1d5883810d304c0caf14e51521508106",
            "d9778f3ca1c14964b3c7bf72a4ccd4dd",
            "48da0cf2bc3f47048ab55695661a13d7",
            "e21881e98e1144f6b465fc84b9579ade",
            "4e0e05d7e33043ce8ee0d79ece72c8d9",
            "6409ee065fba45a69a764058f133a440",
            "411ae7bc84414117801cf58b580ec61c",
            "4ecab15c89d14bc18f1db4ef8e26272c",
            "c07b244124ec4a9a94a1d4eb736d4829",
            "f4f83a10819d4fa1980294c5b8372689",
            "d1d1ad4de2224bcc9408b228c6964dc9",
            "bafde3c46f1141e5a6f1bd0caf599066",
            "930de22b0c114238bf532ee506b7fa5d",
            "d3c3d8311fae4ae4ac0f9ec793c461b2",
            "78e2b8ca06af4f88acca4a00a3a67661",
            "683fc9008b4b452188703dad01082f35",
            "c9038b8832164ce989716c1f2346adee",
            "ac6ad93fca234ae995252799e62abbfd",
            "66f50e1f1180411dbc5e47a4c321e5f9",
            "78e25a23187c480c85f3ee5f018fc49f",
            "fae5674c23f94fb98ff04f9d02347dd4",
            "27b2a5b864c649768f4479acb41c9590",
            "15e293b31c90402e9c3e3359f369b0f9",
            "9430baae306b42a7a95739ad5703af2e",
            "0a01cdb3c2a04ec0aa6bc16c8604c4ca",
            "954946787d8f42f49d795f925d08c521",
            "b5f72fd9114c4901bfa3525abbb45aff",
            "8598c4f6ceb54d41a9afac284294b655",
            "dd953821999440a4acaa4f461bf8f1e5",
            "b7126defcba94bd6a9f8a54b3bac2da5",
            "4dce2d7c285c45f3b173669e020fd108",
            "2b4cbca97e5d4ce1aabb78ed97f7938a",
            "99c0c278f32540328245eaa14fe9b85c",
            "92b7970d8c1f4adeaeb963617f36d94f",
            "924196fd495a4f5c87391aa8b4195724",
            "c575fafac31a40a89e627a3ed683c361",
            "baafc07064c74cd585aa781cfb21bd90",
            "60ac0a75b20d4ffb843088c87f710b4d",
            "cc5e8937adea4786b1415e3c24426b9c",
            "d5598c7b0e2a4afea1a5f7c467e7db94",
            "0afe5df6b77c4ea98b051c8cbc8cf625",
            "2126f7a8555048b4964d30463ff00584",
            "a482fc5e43eb47d6b627bcb2659d06fc",
            "ed25cba019e147f18ee0dbfe37403686",
            "9d6f439060e642628739263a4098979f",
            "5a4d82b8e2654a7280d7afc0c85d86e6",
            "31039fbc7fcc4a27b297166b02a7cbb2",
            "4e039d9163654c05aed9895d98ebb4b2",
            "2995cb235fee43a4b194c0904f724a66",
            "01775be4c6ed4bf48e63c340dfa1db30",
            "bb7ef207f09b46c7b4cea99e9e263c30",
            "2cf920fd70ca4fc1bfaf0dec16070b8c",
            "334edaa81bbb46a18a41bf96a04df4df",
            "7d3128739e4b47749e6ebc6ad7c65b0e",
            "801de7b26e2a4e2fa832003bd10a4ca6",
            "3b68ebcd491949a286df8149d420bb5b",
            "4d06740a98854d0c8ae64314baa0dca2",
            "9490a4d39a704f2d8573eb7f1a20bdeb",
            "ded5f889ad004d7d913422562805890a",
            "056b51c0be104bf4bb86ca594a1d33fb",
            "23983314aa5f4f14913c2e423d52adbb",
            "66ea1c2bb3ea4d2aba065b9519b708b5",
            "4dbd9b76d3544b41a8ab7fc20b93a914",
            "185be552400c4e80bd093d4070758cdc",
            "ff78e71734d74a0b80a7aa3f2d243ca8",
            "5935ae50a7b843649570de2dd931e498",
            "871509535d1f44ffb8b4239ed35f403d",
            "2018f695919b4ca192fede6d2880a6fd",
            "fdff27f9b8af4dde96911efdc4c96328",
            "3f3702e62d37449ea980146e53849699",
            "83ba620302b14d1e969d30dc6fd3e7c7",
            "70ec0dd7b03344919cfc984ac8cd4503",
            "9e90eb8c2faf4674bbbbfc067a5fcfef",
            "1a3939fffb484bb8aff38c2d0773bc76",
            "b599366840ca4d6f8720f63bc1f6cdf3",
            "e5e79efe3fd544b1aee03c05eeb5982b",
            "60219023e4a340cdab6660f29ea141fe",
            "ce3de041b0224154b18aa86171a5daab",
            "df5f9a0db65849a99ed81f321301950d",
            "67e610e42d8e4c3e9035ee843a4cb164",
            "3211fa33547f4ea4b9e0c79d7f5455f7",
            "62a10f35c223460892bbe611b0744ca8",
            "b3643ef1a656400fbfdb6782f71b1588",
            "b4dc2a81bb4443fe9a7cee3c5dbb1681",
            "85be6b670d054ff5b78dbb703061bc35",
            "026ae6d661d4439fb7d9b5b3e3587087",
            "7c353588e6d84820a711e6703b3939bc",
            "3fd6d75d85d44e6096f4e67a0d71f921",
            "9f093e99e8794d9ba85fb9db041b17ca",
            "da1de8dba6084268a991afca3ec23db9",
            "78eb8f59e27c44bd8b9a7db9db1b1ee8",
            "1c9e6c1b75054f50a2c45e3a534f48da",
            "77d64f23652c495ca9de717b3b785808",
            "9174ff6ba00247e784692e6f6e4254f1",
            "3501f08c2a9645839776082ed92dddd8",
            "97e339db29e74dcbbc2b50166249e23d",
            "5c61db5dea384a55a66fafd0833e1d26",
            "8933dc1c70d746e6b6c1b16418c8b4eb",
            "559d9916487b418aa0cf45f02a299eca",
            "bd960687c69449538d41f69bfb1faae9",
            "49ba6b8f4c384658b6ecb82a29ab93a0",
            "26cc82cac9fe47f1a5db0382aed8c1f7",
            "217f1515689949ad956b7ee6885bf83f",
            "b083b713d97e4aa9ae6f45b47a9c3e8c",
            "505d6551fbbe4c5c9b4125aee8017b74",
            "387c7cf7d8ec4df88d5847b910cb3f3c",
            "9faa2d7f5a8d4745a19f0a7cb57f14ac",
            "6858f15f080e4db0a304b150f3567a80",
            "15dd0e1c80f84449a5f2b363f449a2bf",
            "4a36d52f05dc4cc8bcaf041f09b20718",
            "3620d4a6fefd4f279b3d9b7656bd9666",
            "f99c1c303ab04bce88f9dbbdc7d48d94",
            "73bebb505bc6460883f6bc820559e05c",
            "bcc5aaac964c4026825bb401b150e17d",
            "bbfbaa5852cc4329baf1fc4f5e501cba",
            "c51255d7eb0d45b0905431a75f8b4009",
            "d189424dda2b496290dcee1a0e9e29ee",
            "f31f47d7ef724e3ca926ebbf8dffc27f",
            "e4506e12b75c4bacac54918409c00b25",
            "cc12270e4a264b31978572820f0a6805",
            "26fc31ad85324700b2cdf6c7e0ad7405",
            "7744914f10b647c291768263c8505cda",
            "1465a048e47044edb4178523c8b37550",
            "f6fa4500c7a04d96a19971b3226fe38f",
            "c85b8a406c7e4e2eb9b4bd5ff399b0c4",
            "66363ecdb0744679980df989110e4182",
            "d31ee1152aa24bd881849e29ae56f187",
            "5eed6db4da5e441485115d6317f85860",
            "1724b69971ae46409016e7d7008a55df"
          ]
        },
        "id": "0-tdCkC5eVez",
        "outputId": "ad143cca-19b5-48b3-f77c-e11dd59bb317"
      },
      "outputs": [
        {
          "name": "stderr",
          "output_type": "stream",
          "text": [
            "`torch_dtype` is deprecated! Use `dtype` instead!\n"
          ]
        },
        {
          "data": {
            "application/vnd.jupyter.widget-view+json": {
              "model_id": "0e2b9fcb62074ccb85ce85fc034900b1",
              "version_major": 2,
              "version_minor": 0
            },
            "text/plain": [
              "config.json:   0%|          | 0.00/855 [00:00<?, ?B/s]"
            ]
          },
          "metadata": {},
          "output_type": "display_data"
        },
        {
          "data": {
            "application/vnd.jupyter.widget-view+json": {
              "model_id": "eb1d786c32d94fa8a086aa92ef52ea3e",
              "version_major": 2,
              "version_minor": 0
            },
            "text/plain": [
              "model.safetensors.index.json:   0%|          | 0.00/90.6k [00:00<?, ?B/s]"
            ]
          },
          "metadata": {},
          "output_type": "display_data"
        },
        {
          "data": {
            "application/vnd.jupyter.widget-view+json": {
              "model_id": "a1d19e9d6a5d48818c6b9c079868a334",
              "version_major": 2,
              "version_minor": 0
            },
            "text/plain": [
              "Fetching 2 files:   0%|          | 0/2 [00:00<?, ?it/s]"
            ]
          },
          "metadata": {},
          "output_type": "display_data"
        },
        {
          "data": {
            "application/vnd.jupyter.widget-view+json": {
              "model_id": "f28c26d66e484c69a4e32416a7025c61",
              "version_major": 2,
              "version_minor": 0
            },
            "text/plain": [
              "model-00002-of-00002.safetensors:   0%|          | 0.00/3.64G [00:00<?, ?B/s]"
            ]
          },
          "metadata": {},
          "output_type": "display_data"
        },
        {
          "data": {
            "application/vnd.jupyter.widget-view+json": {
              "model_id": "35a2710be27140efb1e36f9021655bc2",
              "version_major": 2,
              "version_minor": 0
            },
            "text/plain": [
              "model-00001-of-00002.safetensors:   0%|          | 0.00/4.96G [00:00<?, ?B/s]"
            ]
          },
          "metadata": {},
          "output_type": "display_data"
        },
        {
          "data": {
            "application/vnd.jupyter.widget-view+json": {
              "model_id": "c07b244124ec4a9a94a1d4eb736d4829",
              "version_major": 2,
              "version_minor": 0
            },
            "text/plain": [
              "Loading checkpoint shards:   0%|          | 0/2 [00:00<?, ?it/s]"
            ]
          },
          "metadata": {},
          "output_type": "display_data"
        },
        {
          "data": {
            "application/vnd.jupyter.widget-view+json": {
              "model_id": "78e25a23187c480c85f3ee5f018fc49f",
              "version_major": 2,
              "version_minor": 0
            },
            "text/plain": [
              "generation_config.json:   0%|          | 0.00/215 [00:00<?, ?B/s]"
            ]
          },
          "metadata": {},
          "output_type": "display_data"
        },
        {
          "data": {
            "application/vnd.jupyter.widget-view+json": {
              "model_id": "4dce2d7c285c45f3b173669e020fd108",
              "version_major": 2,
              "version_minor": 0
            },
            "text/plain": [
              "processor_config.json:   0%|          | 0.00/70.0 [00:00<?, ?B/s]"
            ]
          },
          "metadata": {},
          "output_type": "display_data"
        },
        {
          "data": {
            "application/vnd.jupyter.widget-view+json": {
              "model_id": "2126f7a8555048b4964d30463ff00584",
              "version_major": 2,
              "version_minor": 0
            },
            "text/plain": [
              "chat_template.json:   0%|          | 0.00/1.61k [00:00<?, ?B/s]"
            ]
          },
          "metadata": {},
          "output_type": "display_data"
        },
        {
          "data": {
            "application/vnd.jupyter.widget-view+json": {
              "model_id": "334edaa81bbb46a18a41bf96a04df4df",
              "version_major": 2,
              "version_minor": 0
            },
            "text/plain": [
              "Fetching 2 files:   0%|          | 0/2 [00:00<?, ?it/s]"
            ]
          },
          "metadata": {},
          "output_type": "display_data"
        },
        {
          "data": {
            "application/vnd.jupyter.widget-view+json": {
              "model_id": "185be552400c4e80bd093d4070758cdc",
              "version_major": 2,
              "version_minor": 0
            },
            "text/plain": [
              "preprocessor_config.json:   0%|          | 0.00/570 [00:00<?, ?B/s]"
            ]
          },
          "metadata": {},
          "output_type": "display_data"
        },
        {
          "name": "stderr",
          "output_type": "stream",
          "text": [
            "Using a slow image processor as `use_fast` is unset and a slow processor was saved with this model. `use_fast=True` will be the default behavior in v4.52, even if the model was saved with a slow processor. This will result in minor differences in outputs. You'll still be able to use a slow processor with `use_fast=False`.\n"
          ]
        },
        {
          "data": {
            "application/vnd.jupyter.widget-view+json": {
              "model_id": "b599366840ca4d6f8720f63bc1f6cdf3",
              "version_major": 2,
              "version_minor": 0
            },
            "text/plain": [
              "tokenizer_config.json:   0%|          | 0.00/1.16M [00:00<?, ?B/s]"
            ]
          },
          "metadata": {},
          "output_type": "display_data"
        },
        {
          "data": {
            "application/vnd.jupyter.widget-view+json": {
              "model_id": "026ae6d661d4439fb7d9b5b3e3587087",
              "version_major": 2,
              "version_minor": 0
            },
            "text/plain": [
              "tokenizer.model:   0%|          | 0.00/4.69M [00:00<?, ?B/s]"
            ]
          },
          "metadata": {},
          "output_type": "display_data"
        },
        {
          "data": {
            "application/vnd.jupyter.widget-view+json": {
              "model_id": "5c61db5dea384a55a66fafd0833e1d26",
              "version_major": 2,
              "version_minor": 0
            },
            "text/plain": [
              "tokenizer.json:   0%|          | 0.00/33.4M [00:00<?, ?B/s]"
            ]
          },
          "metadata": {},
          "output_type": "display_data"
        },
        {
          "data": {
            "application/vnd.jupyter.widget-view+json": {
              "model_id": "6858f15f080e4db0a304b150f3567a80",
              "version_major": 2,
              "version_minor": 0
            },
            "text/plain": [
              "added_tokens.json:   0%|          | 0.00/35.0 [00:00<?, ?B/s]"
            ]
          },
          "metadata": {},
          "output_type": "display_data"
        },
        {
          "data": {
            "application/vnd.jupyter.widget-view+json": {
              "model_id": "e4506e12b75c4bacac54918409c00b25",
              "version_major": 2,
              "version_minor": 0
            },
            "text/plain": [
              "special_tokens_map.json:   0%|          | 0.00/662 [00:00<?, ?B/s]"
            ]
          },
          "metadata": {},
          "output_type": "display_data"
        }
      ],
      "source": [
        "from transformers import BitsAndBytesConfig\n",
        "\n",
        "# BitsAndBytesConfig int-4 config\n",
        "bnb_config = BitsAndBytesConfig(\n",
        "    load_in_4bit=True, bnb_4bit_use_double_quant=True, bnb_4bit_quant_type=\"nf4\", bnb_4bit_compute_dtype=torch.bfloat16\n",
        ")\n",
        "\n",
        "# Load model and tokenizer\n",
        "model = Gemma3ForConditionalGeneration.from_pretrained(\n",
        "    model_id, device_map=\"auto\", torch_dtype=torch.bfloat16, quantization_config=bnb_config\n",
        ")\n",
        "processor = AutoProcessor.from_pretrained(model_id)"
      ]
    },
    {
      "cell_type": "code",
      "execution_count": null,
      "metadata": {
        "colab": {
          "base_uri": "https://localhost:8080/"
        },
        "id": "bfBMa1lveVXB",
        "outputId": "8646a723-3f94-481c-a6d7-099f49044b9a"
      },
      "outputs": [
        {
          "name": "stdout",
          "output_type": "stream",
          "text": [
            "trainable params: 3,223,552 || all params: 4,303,303,024 || trainable%: 0.0749\n"
          ]
        }
      ],
      "source": [
        "from peft import LoraConfig, get_peft_model\n",
        "\n",
        "# Configure LoRA\n",
        "peft_config = LoraConfig(\n",
        "    lora_alpha=16,\n",
        "    lora_dropout=0.05,\n",
        "    r=8,\n",
        "    bias=\"none\",\n",
        "    target_modules=[\"q_proj\", \"v_proj\"],\n",
        "    task_type=\"CAUSAL_LM\",\n",
        ")\n",
        "\n",
        "# Apply PEFT model adaptation\n",
        "peft_model = get_peft_model(model, peft_config)\n",
        "\n",
        "# Print trainable parameters\n",
        "peft_model.print_trainable_parameters()"
      ]
    },
    {
      "cell_type": "code",
      "execution_count": null,
      "metadata": {
        "id": "KrD1O2cPkzlK"
      },
      "outputs": [],
      "source": [
        "from trl import SFTConfig\n",
        "\n",
        "# Configure training arguments\n",
        "training_args = SFTConfig(\n",
        "    output_dir=\"gemma-3-4b-it-finetuned\",  # Directory to save the model\n",
        "    num_train_epochs=50,  # Number of training epochs\n",
        "    per_device_train_batch_size=4,  # Batch size for training\n",
        "    per_device_eval_batch_size=4,  # Batch size for evaluation\n",
        "    gradient_accumulation_steps=8,  # Steps to accumulate gradients\n",
        "    gradient_checkpointing_kwargs={\"use_reentrant\": False},  # Options for gradient checkpointing\n",
        "    max_length=None,\n",
        "    # Optimizer and scheduler settings\n",
        "    optim=\"adamw_torch_fused\",  # Optimizer type\n",
        "    learning_rate=3e-5,  # Learning rate for training\n",
        "    # Logging and evaluation (epoch-based)\n",
        "    logging_strategy=\"epoch\",  # Log after each epoch\n",
        "    eval_strategy=\"epoch\",  # Evaluate after each epoch\n",
        "    save_strategy=\"epoch\",  # Save after each epoch\n",
        "    # Mixed precision and gradient settings\n",
        "    bf16=True,  # Use bfloat16 precision\n",
        "    max_grad_norm=0.3,  # Maximum norm for gradient clipping\n",
        "    warmup_ratio=0.03,  # Ratio of total steps for warmup\n",
        "    # Hub and reporting\n",
        "    push_to_hub=True,  # Whether to push model to Hugging Face Hub\n",
        "    hub_private_repo=True, # Make the hub repository private\n",
        ")"
      ]
    },
    {
      "cell_type": "code",
      "execution_count": null,
      "metadata": {
        "colab": {
          "base_uri": "https://localhost:8080/"
        },
        "id": "JFnku8aYeVQv",
        "outputId": "fee62fc9-329a-4f01-809f-be2310ba1272"
      },
      "outputs": [
        {
          "name": "stderr",
          "output_type": "stream",
          "text": [
            "/usr/local/lib/python3.12/dist-packages/peft/mapping_func.py:73: UserWarning: You are trying to modify a model with PEFT for a second time. If you want to reload the model with a different config, make sure to call `.unload()` before.\n",
            "  warnings.warn(\n",
            "/usr/local/lib/python3.12/dist-packages/peft/tuners/tuners_utils.py:196: UserWarning: Already found a `peft_config` attribute in the model. This will lead to having multiple adapters in the model. Make sure to know what you are doing!\n",
            "  warnings.warn(\n"
          ]
        }
      ],
      "source": [
        "from trl import SFTTrainer\n",
        "\n",
        "trainer = SFTTrainer(\n",
        "    model=model,\n",
        "    args=training_args,\n",
        "    train_dataset=train_dataset,\n",
        "    eval_dataset=eval_dataset,\n",
        "    peft_config=peft_config,\n",
        "    processing_class=processor,\n",
        ")"
      ]
    },
    {
      "cell_type": "code",
      "execution_count": null,
      "metadata": {
        "colab": {
          "base_uri": "https://localhost:8080/"
        },
        "id": "zaGrOW0Njamj",
        "outputId": "be329c0f-6351-432b-ee9f-dac40195b87c"
      },
      "outputs": [
        {
          "data": {
            "text/plain": [
              "(241, 59)"
            ]
          },
          "execution_count": 24,
          "metadata": {},
          "output_type": "execute_result"
        }
      ],
      "source": [
        "len(train_dataset), len(eval_dataset)"
      ]
    },
    {
      "cell_type": "code",
      "execution_count": null,
      "metadata": {
        "colab": {
          "background_save": true,
          "base_uri": "https://localhost:8080/",
          "height": 502
        },
        "id": "BuY4K_eCeVNq",
        "outputId": "c9884958-0fed-4ac8-aaa7-b89e34f9fead"
      },
      "outputs": [
        {
          "name": "stderr",
          "output_type": "stream",
          "text": [
            "The tokenizer has new PAD/BOS/EOS tokens that differ from the model config and generation config. The model config and generation config were aligned accordingly, being updated with the tokenizer's values. Updated tokens: {'eos_token_id': 1, 'bos_token_id': 2, 'pad_token_id': 0}.\n",
            "/usr/local/lib/python3.12/dist-packages/notebook/notebookapp.py:191: SyntaxWarning: invalid escape sequence '\\/'\n",
            "  | |_| | '_ \\/ _` / _` |  _/ -_)\n"
          ]
        },
        {
          "data": {
            "application/javascript": [
              "\n",
              "        window._wandbApiKey = new Promise((resolve, reject) => {\n",
              "            function loadScript(url) {\n",
              "            return new Promise(function(resolve, reject) {\n",
              "                let newScript = document.createElement(\"script\");\n",
              "                newScript.onerror = reject;\n",
              "                newScript.onload = resolve;\n",
              "                document.body.appendChild(newScript);\n",
              "                newScript.src = url;\n",
              "            });\n",
              "            }\n",
              "            loadScript(\"https://cdn.jsdelivr.net/npm/postmate/build/postmate.min.js\").then(() => {\n",
              "            const iframe = document.createElement('iframe')\n",
              "            iframe.style.cssText = \"width:0;height:0;border:none\"\n",
              "            document.body.appendChild(iframe)\n",
              "            const handshake = new Postmate({\n",
              "                container: iframe,\n",
              "                url: 'https://wandb.ai/authorize'\n",
              "            });\n",
              "            const timeout = setTimeout(() => reject(\"Couldn't auto authenticate\"), 5000)\n",
              "            handshake.then(function(child) {\n",
              "                child.on('authorize', data => {\n",
              "                    clearTimeout(timeout)\n",
              "                    resolve(data)\n",
              "                });\n",
              "            });\n",
              "            })\n",
              "        });\n",
              "    "
            ],
            "text/plain": [
              "<IPython.core.display.Javascript object>"
            ]
          },
          "metadata": {},
          "output_type": "display_data"
        },
        {
          "name": "stderr",
          "output_type": "stream",
          "text": [
            "\u001b[34m\u001b[1mwandb\u001b[0m: Logging into wandb.ai. (Learn how to deploy a W&B server locally: https://wandb.me/wandb-server)\n",
            "\u001b[34m\u001b[1mwandb\u001b[0m: You can find your API key in your browser here: https://wandb.ai/authorize?ref=models\n",
            "wandb: Paste an API key from your profile and hit enter:\u001b[34m\u001b[1mwandb\u001b[0m: \u001b[33mWARNING\u001b[0m If you're specifying your api key in code, ensure this code is not shared publicly.\n",
            "\u001b[34m\u001b[1mwandb\u001b[0m: \u001b[33mWARNING\u001b[0m Consider setting the WANDB_API_KEY environment variable, or running `wandb login` from the command line.\n",
            "\u001b[34m\u001b[1mwandb\u001b[0m: No netrc file found, creating one.\n",
            "\u001b[34m\u001b[1mwandb\u001b[0m: Appending key for api.wandb.ai to your netrc file: /root/.netrc\n",
            "\u001b[34m\u001b[1mwandb\u001b[0m: Currently logged in as: \u001b[33mparitkansal121\u001b[0m (\u001b[33mparitkansal121-harcourt-butler-technical-university\u001b[0m) to \u001b[32mhttps://api.wandb.ai\u001b[0m. Use \u001b[1m`wandb login --relogin`\u001b[0m to force relogin\n"
          ]
        },
        {
          "data": {
            "text/html": [
              "creating run (0.0s)"
            ],
            "text/plain": [
              "<IPython.core.display.HTML object>"
            ]
          },
          "metadata": {},
          "output_type": "display_data"
        },
        {
          "data": {
            "text/html": [
              "Tracking run with wandb version 0.21.3"
            ],
            "text/plain": [
              "<IPython.core.display.HTML object>"
            ]
          },
          "metadata": {},
          "output_type": "display_data"
        },
        {
          "data": {
            "text/html": [
              "Run data is saved locally in <code>/content/wandb/run-20250922_124345-b51f7oh4</code>"
            ],
            "text/plain": [
              "<IPython.core.display.HTML object>"
            ]
          },
          "metadata": {},
          "output_type": "display_data"
        },
        {
          "data": {
            "text/html": [
              "Syncing run <strong><a href='https://wandb.ai/paritkansal121-harcourt-butler-technical-university/huggingface/runs/b51f7oh4' target=\"_blank\">ruby-hill-61</a></strong> to <a href='https://wandb.ai/paritkansal121-harcourt-butler-technical-university/huggingface' target=\"_blank\">Weights & Biases</a> (<a href='https://wandb.me/developer-guide' target=\"_blank\">docs</a>)<br>"
            ],
            "text/plain": [
              "<IPython.core.display.HTML object>"
            ]
          },
          "metadata": {},
          "output_type": "display_data"
        },
        {
          "data": {
            "text/html": [
              " View project at <a href='https://wandb.ai/paritkansal121-harcourt-butler-technical-university/huggingface' target=\"_blank\">https://wandb.ai/paritkansal121-harcourt-butler-technical-university/huggingface</a>"
            ],
            "text/plain": [
              "<IPython.core.display.HTML object>"
            ]
          },
          "metadata": {},
          "output_type": "display_data"
        },
        {
          "data": {
            "text/html": [
              " View run at <a href='https://wandb.ai/paritkansal121-harcourt-butler-technical-university/huggingface/runs/b51f7oh4' target=\"_blank\">https://wandb.ai/paritkansal121-harcourt-butler-technical-university/huggingface/runs/b51f7oh4</a>"
            ],
            "text/plain": [
              "<IPython.core.display.HTML object>"
            ]
          },
          "metadata": {},
          "output_type": "display_data"
        },
        {
          "data": {
            "text/html": [
              "\n",
              "    <div>\n",
              "      \n",
              "      <progress value='400' max='400' style='width:300px; height:20px; vertical-align: middle;'></progress>\n",
              "      [400/400 2:31:55, Epoch 50/50]\n",
              "    </div>\n",
              "    <table border=\"1\" class=\"dataframe\">\n",
              "  <thead>\n",
              " <tr style=\"text-align: left;\">\n",
              "      <th>Epoch</th>\n",
              "      <th>Training Loss</th>\n",
              "      <th>Validation Loss</th>\n",
              "      <th>Entropy</th>\n",
              "      <th>Num Tokens</th>\n",
              "      <th>Mean Token Accuracy</th>\n",
              "    </tr>\n",
              "  </thead>\n",
              "  <tbody>\n",
              "    <tr>\n",
              "      <td>1</td>\n",
              "      <td>70.087900</td>\n",
              "      <td>9.159941</td>\n",
              "      <td>0.423697</td>\n",
              "      <td>238764.000000</td>\n",
              "      <td>0.610443</td>\n",
              "    </tr>\n",
              "    <tr>\n",
              "      <td>2</td>\n",
              "      <td>68.202200</td>\n",
              "      <td>8.458251</td>\n",
              "      <td>0.467700</td>\n",
              "      <td>477528.000000</td>\n",
              "      <td>0.610419</td>\n",
              "    </tr>\n",
              "    <tr>\n",
              "      <td>3</td>\n",
              "      <td>62.208700</td>\n",
              "      <td>7.533716</td>\n",
              "      <td>0.555293</td>\n",
              "      <td>716292.000000</td>\n",
              "      <td>0.612013</td>\n",
              "    </tr>\n",
              "    <tr>\n",
              "      <td>4</td>\n",
              "      <td>53.968400</td>\n",
              "      <td>6.471757</td>\n",
              "      <td>0.713430</td>\n",
              "      <td>955056.000000</td>\n",
              "      <td>0.612809</td>\n",
              "    </tr>\n",
              "    <tr>\n",
              "      <td>5</td>\n",
              "      <td>47.190000</td>\n",
              "      <td>5.734197</td>\n",
              "      <td>0.901680</td>\n",
              "      <td>1193820.000000</td>\n",
              "      <td>0.612734</td>\n",
              "    </tr>\n",
              "    <tr>\n",
              "      <td>6</td>\n",
              "      <td>41.914100</td>\n",
              "      <td>5.121171</td>\n",
              "      <td>1.154890</td>\n",
              "      <td>1432584.000000</td>\n",
              "      <td>0.613336</td>\n",
              "    </tr>\n",
              "    <tr>\n",
              "      <td>7</td>\n",
              "      <td>37.739000</td>\n",
              "      <td>4.665856</td>\n",
              "      <td>1.455390</td>\n",
              "      <td>1671348.000000</td>\n",
              "      <td>0.612882</td>\n",
              "    </tr>\n",
              "    <tr>\n",
              "      <td>8</td>\n",
              "      <td>34.472600</td>\n",
              "      <td>4.300321</td>\n",
              "      <td>1.787021</td>\n",
              "      <td>1910112.000000</td>\n",
              "      <td>0.614283</td>\n",
              "    </tr>\n",
              "    <tr>\n",
              "      <td>9</td>\n",
              "      <td>31.835000</td>\n",
              "      <td>3.992932</td>\n",
              "      <td>2.136182</td>\n",
              "      <td>2148876.000000</td>\n",
              "      <td>0.615304</td>\n",
              "    </tr>\n",
              "    <tr>\n",
              "      <td>10</td>\n",
              "      <td>29.569100</td>\n",
              "      <td>3.702386</td>\n",
              "      <td>2.609229</td>\n",
              "      <td>2387640.000000</td>\n",
              "      <td>0.616711</td>\n",
              "    </tr>\n",
              "    <tr>\n",
              "      <td>11</td>\n",
              "      <td>27.665400</td>\n",
              "      <td>3.512768</td>\n",
              "      <td>2.977916</td>\n",
              "      <td>2626404.000000</td>\n",
              "      <td>0.618125</td>\n",
              "    </tr>\n",
              "    <tr>\n",
              "      <td>12</td>\n",
              "      <td>26.230300</td>\n",
              "      <td>3.311415</td>\n",
              "      <td>3.157007</td>\n",
              "      <td>2865168.000000</td>\n",
              "      <td>0.619766</td>\n",
              "    </tr>\n",
              "    <tr>\n",
              "      <td>13</td>\n",
              "      <td>24.661200</td>\n",
              "      <td>3.105807</td>\n",
              "      <td>3.106968</td>\n",
              "      <td>3103932.000000</td>\n",
              "      <td>0.621210</td>\n",
              "    </tr>\n",
              "    <tr>\n",
              "      <td>14</td>\n",
              "      <td>23.138400</td>\n",
              "      <td>2.912555</td>\n",
              "      <td>2.947199</td>\n",
              "      <td>3342696.000000</td>\n",
              "      <td>0.624808</td>\n",
              "    </tr>\n",
              "    <tr>\n",
              "      <td>15</td>\n",
              "      <td>21.492100</td>\n",
              "      <td>2.672635</td>\n",
              "      <td>2.998386</td>\n",
              "      <td>3581460.000000</td>\n",
              "      <td>0.626888</td>\n",
              "    </tr>\n",
              "    <tr>\n",
              "      <td>16</td>\n",
              "      <td>19.511800</td>\n",
              "      <td>2.363573</td>\n",
              "      <td>2.781167</td>\n",
              "      <td>3820224.000000</td>\n",
              "      <td>0.628458</td>\n",
              "    </tr>\n",
              "    <tr>\n",
              "      <td>17</td>\n",
              "      <td>17.068100</td>\n",
              "      <td>2.053753</td>\n",
              "      <td>2.401137</td>\n",
              "      <td>4058988.000000</td>\n",
              "      <td>0.629581</td>\n",
              "    </tr>\n",
              "    <tr>\n",
              "      <td>18</td>\n",
              "      <td>14.904700</td>\n",
              "      <td>1.820807</td>\n",
              "      <td>2.015529</td>\n",
              "      <td>4297752.000000</td>\n",
              "      <td>0.629796</td>\n",
              "    </tr>\n",
              "    <tr>\n",
              "      <td>19</td>\n",
              "      <td>13.424700</td>\n",
              "      <td>1.679605</td>\n",
              "      <td>1.687594</td>\n",
              "      <td>4536516.000000</td>\n",
              "      <td>0.633992</td>\n",
              "    </tr>\n",
              "    <tr>\n",
              "      <td>20</td>\n",
              "      <td>12.597600</td>\n",
              "      <td>1.609830</td>\n",
              "      <td>1.539816</td>\n",
              "      <td>4775280.000000</td>\n",
              "      <td>0.639529</td>\n",
              "    </tr>\n",
              "    <tr>\n",
              "      <td>21</td>\n",
              "      <td>12.157600</td>\n",
              "      <td>1.564054</td>\n",
              "      <td>1.494444</td>\n",
              "      <td>5014044.000000</td>\n",
              "      <td>0.645766</td>\n",
              "    </tr>\n",
              "    <tr>\n",
              "      <td>22</td>\n",
              "      <td>11.835000</td>\n",
              "      <td>1.521742</td>\n",
              "      <td>1.471608</td>\n",
              "      <td>5252808.000000</td>\n",
              "      <td>0.652581</td>\n",
              "    </tr>\n",
              "    <tr>\n",
              "      <td>23</td>\n",
              "      <td>11.536800</td>\n",
              "      <td>1.487055</td>\n",
              "      <td>1.454962</td>\n",
              "      <td>5491572.000000</td>\n",
              "      <td>0.656540</td>\n",
              "    </tr>\n",
              "    <tr>\n",
              "      <td>24</td>\n",
              "      <td>11.275200</td>\n",
              "      <td>1.452339</td>\n",
              "      <td>1.431209</td>\n",
              "      <td>5730336.000000</td>\n",
              "      <td>0.661167</td>\n",
              "    </tr>\n",
              "    <tr>\n",
              "      <td>25</td>\n",
              "      <td>11.011200</td>\n",
              "      <td>1.416734</td>\n",
              "      <td>1.404285</td>\n",
              "      <td>5969100.000000</td>\n",
              "      <td>0.672390</td>\n",
              "    </tr>\n",
              "    <tr>\n",
              "      <td>26</td>\n",
              "      <td>10.734900</td>\n",
              "      <td>1.381928</td>\n",
              "      <td>1.373973</td>\n",
              "      <td>6207864.000000</td>\n",
              "      <td>0.719540</td>\n",
              "    </tr>\n",
              "    <tr>\n",
              "      <td>27</td>\n",
              "      <td>10.455600</td>\n",
              "      <td>1.344074</td>\n",
              "      <td>1.343960</td>\n",
              "      <td>6446628.000000</td>\n",
              "      <td>0.860527</td>\n",
              "    </tr>\n",
              "    <tr>\n",
              "      <td>28</td>\n",
              "      <td>10.185300</td>\n",
              "      <td>1.312023</td>\n",
              "      <td>1.308805</td>\n",
              "      <td>6685392.000000</td>\n",
              "      <td>0.927280</td>\n",
              "    </tr>\n",
              "    <tr>\n",
              "      <td>29</td>\n",
              "      <td>9.928800</td>\n",
              "      <td>1.282542</td>\n",
              "      <td>1.281730</td>\n",
              "      <td>6924156.000000</td>\n",
              "      <td>0.938203</td>\n",
              "    </tr>\n",
              "    <tr>\n",
              "      <td>30</td>\n",
              "      <td>9.708000</td>\n",
              "      <td>1.253746</td>\n",
              "      <td>1.261333</td>\n",
              "      <td>7162920.000000</td>\n",
              "      <td>0.944422</td>\n",
              "    </tr>\n",
              "    <tr>\n",
              "      <td>31</td>\n",
              "      <td>9.489500</td>\n",
              "      <td>1.228418</td>\n",
              "      <td>1.244348</td>\n",
              "      <td>7401684.000000</td>\n",
              "      <td>0.953502</td>\n",
              "    </tr>\n",
              "    <tr>\n",
              "      <td>32</td>\n",
              "      <td>9.306900</td>\n",
              "      <td>1.207435</td>\n",
              "      <td>1.229829</td>\n",
              "      <td>7640448.000000</td>\n",
              "      <td>0.955177</td>\n",
              "    </tr>\n",
              "    <tr>\n",
              "      <td>33</td>\n",
              "      <td>9.149200</td>\n",
              "      <td>1.190680</td>\n",
              "      <td>1.221326</td>\n",
              "      <td>7879212.000000</td>\n",
              "      <td>0.957313</td>\n",
              "    </tr>\n",
              "    <tr>\n",
              "      <td>34</td>\n",
              "      <td>9.025400</td>\n",
              "      <td>1.174903</td>\n",
              "      <td>1.215174</td>\n",
              "      <td>8117976.000000</td>\n",
              "      <td>0.959681</td>\n",
              "    </tr>\n",
              "    <tr>\n",
              "      <td>35</td>\n",
              "      <td>8.914500</td>\n",
              "      <td>1.161314</td>\n",
              "      <td>1.208568</td>\n",
              "      <td>8356740.000000</td>\n",
              "      <td>0.959577</td>\n",
              "    </tr>\n",
              "    <tr>\n",
              "      <td>36</td>\n",
              "      <td>8.808300</td>\n",
              "      <td>1.147647</td>\n",
              "      <td>1.202664</td>\n",
              "      <td>8595504.000000</td>\n",
              "      <td>0.960794</td>\n",
              "    </tr>\n",
              "    <tr>\n",
              "      <td>37</td>\n",
              "      <td>8.710800</td>\n",
              "      <td>1.136619</td>\n",
              "      <td>1.199327</td>\n",
              "      <td>8834268.000000</td>\n",
              "      <td>0.962456</td>\n",
              "    </tr>\n",
              "    <tr>\n",
              "      <td>38</td>\n",
              "      <td>8.612900</td>\n",
              "      <td>1.126127</td>\n",
              "      <td>1.197953</td>\n",
              "      <td>9073032.000000</td>\n",
              "      <td>0.963398</td>\n",
              "    </tr>\n",
              "    <tr>\n",
              "      <td>39</td>\n",
              "      <td>8.540700</td>\n",
              "      <td>1.116597</td>\n",
              "      <td>1.197399</td>\n",
              "      <td>9311796.000000</td>\n",
              "      <td>0.964482</td>\n",
              "    </tr>\n",
              "    <tr>\n",
              "      <td>40</td>\n",
              "      <td>8.473600</td>\n",
              "      <td>1.109704</td>\n",
              "      <td>1.196172</td>\n",
              "      <td>9550560.000000</td>\n",
              "      <td>0.965293</td>\n",
              "    </tr>\n",
              "    <tr>\n",
              "      <td>41</td>\n",
              "      <td>8.419900</td>\n",
              "      <td>1.103058</td>\n",
              "      <td>1.194083</td>\n",
              "      <td>9789324.000000</td>\n",
              "      <td>0.965119</td>\n",
              "    </tr>\n",
              "    <tr>\n",
              "      <td>42</td>\n",
              "      <td>8.361100</td>\n",
              "      <td>1.097407</td>\n",
              "      <td>1.192588</td>\n",
              "      <td>10028088.000000</td>\n",
              "      <td>0.965884</td>\n",
              "    </tr>\n",
              "    <tr>\n",
              "      <td>43</td>\n",
              "      <td>8.327400</td>\n",
              "      <td>1.092303</td>\n",
              "      <td>1.191593</td>\n",
              "      <td>10266852.000000</td>\n",
              "      <td>0.965686</td>\n",
              "    </tr>\n",
              "    <tr>\n",
              "      <td>44</td>\n",
              "      <td>8.290000</td>\n",
              "      <td>1.088113</td>\n",
              "      <td>1.191704</td>\n",
              "      <td>10505616.000000</td>\n",
              "      <td>0.965963</td>\n",
              "    </tr>\n",
              "    <tr>\n",
              "      <td>45</td>\n",
              "      <td>8.258800</td>\n",
              "      <td>1.083973</td>\n",
              "      <td>1.190931</td>\n",
              "      <td>10744380.000000</td>\n",
              "      <td>0.966752</td>\n",
              "    </tr>\n",
              "    <tr>\n",
              "      <td>46</td>\n",
              "      <td>8.221700</td>\n",
              "      <td>1.080699</td>\n",
              "      <td>1.190602</td>\n",
              "      <td>10983144.000000</td>\n",
              "      <td>0.966898</td>\n",
              "    </tr>\n",
              "    <tr>\n",
              "      <td>47</td>\n",
              "      <td>8.208200</td>\n",
              "      <td>1.078723</td>\n",
              "      <td>1.189820</td>\n",
              "      <td>11221908.000000</td>\n",
              "      <td>0.967362</td>\n",
              "    </tr>\n",
              "    <tr>\n",
              "      <td>48</td>\n",
              "      <td>8.188200</td>\n",
              "      <td>1.076897</td>\n",
              "      <td>1.189529</td>\n",
              "      <td>11460672.000000</td>\n",
              "      <td>0.967579</td>\n",
              "    </tr>\n",
              "    <tr>\n",
              "      <td>49</td>\n",
              "      <td>8.175600</td>\n",
              "      <td>1.076109</td>\n",
              "      <td>1.189223</td>\n",
              "      <td>11699436.000000</td>\n",
              "      <td>0.967562</td>\n",
              "    </tr>\n",
              "    <tr>\n",
              "      <td>50</td>\n",
              "      <td>8.169200</td>\n",
              "      <td>1.075849</td>\n",
              "      <td>1.189382</td>\n",
              "      <td>11938200.000000</td>\n",
              "      <td>0.967228</td>\n",
              "    </tr>\n",
              "  </tbody>\n",
              "</table><p>"
            ],
            "text/plain": [
              "<IPython.core.display.HTML object>"
            ]
          },
          "metadata": {},
          "output_type": "display_data"
        },
        {
          "data": {
            "text/plain": [
              "TrainOutput(global_step=400, training_loss=19.16723268508911, metrics={'train_runtime': 9210.4858, 'train_samples_per_second': 1.308, 'train_steps_per_second': 0.043, 'total_flos': 2.8475436539397946e+17, 'train_loss': 19.16723268508911, 'epoch': 50.0})"
            ]
          },
          "execution_count": 25,
          "metadata": {},
          "output_type": "execute_result"
        }
      ],
      "source": [
        "trainer.train()"
      ]
    },
    {
      "cell_type": "code",
      "execution_count": 21,
      "metadata": {
        "colab": {
          "base_uri": "https://localhost:8080/"
        },
        "id": "q4Sml0uIja0A",
        "outputId": "8abeb399-3dc2-401e-e155-da12bcdeffe7"
      },
      "outputs": [
        {
          "output_type": "execute_result",
          "data": {
            "text/plain": [
              "{'images': [<PIL.JpegImagePlugin.JpegImageFile image mode=RGB size=2550x3300>],\n",
              " 'messages': [{'role': 'system',\n",
              "   'content': [{'type': 'text',\n",
              "     'text': '\\nYou are an OCR model expert.\\nYour task is to analyze images and return the extracted information in a well-structured, nested JSON format.\\n'}]},\n",
              "  {'role': 'user',\n",
              "   'content': [{'type': 'image',\n",
              "     'image': <PIL.JpegImagePlugin.JpegImageFile image mode=RGB size=2550x3300>}]},\n",
              "  {'role': 'assistant',\n",
              "   'content': [{'type': 'text',\n",
              "     'text': '```json\\n{\"INV_VendorFullName\": \"Arthrex, Inc\", \"INV_InvoiceNumber\": 921294435, \"INV_PurchaseOrderNo\": \"3000247640-STPO\", \"INV_InvoiceDate\": \"07/17/2024\", \"INV_AccountNumber\": 2000004652, \"INV_VAT\": 0, \"INV_ShipToAddress1\": \"600 E 233RD ST\", \"INV_ShipToState\": \"NY\", \"INV_ShipToPostCode\": \"10466-2604\", \"INV_TotalAmount\": 495.36, \"INV_ShipToFullName\": \"MONTEFIORE MEDICAL CENTER WAKEFIELD\\\\nWAKEFIELD OPERATING ROOM STOREROOM\\\\nIWAKO\", \"INV_ExtdPrice_0\": 495.36, \"INV_Description_0\": \"# 5 FIBERWIRE, 38\\\\\" LONG, BLUE\", \"INV_VendorCatalogNo_0\": \"AR-7210\", \"INV_Quantity_0\": 12, \"INV_ExtdPrice_1\": \"\", \"INV_Description_1\": \"\", \"INV_VendorCatalogNo_1\": \"\", \"INV_Quantity_1\": \"\", \"INV_ExtdPrice_2\": \"\", \"INV_Description_2\": \"\", \"INV_VendorCatalogNo_2\": \"\", \"INV_Quantity_2\": \"\", \"INV_ShipToCity\": \"\", \"INV_UOM_1\": \"\", \"INV_FreightCharge\": 0, \"INV_UOM_0\": \"EA\", \"INV_ExtdPrice_3\": \"\", \"INV_Description_3\": \"\", \"INV_VendorCatalogNo_3\": \"\", \"INV_Quantity_3\": \"\", \"INV_ExtdPrice_4\": \"\", \"INV_Description_4\": \"\", \"INV_VendorCatalogNo_4\": \"\", \"INV_Quantity_4\": \"\", \"INV_ExtdPrice_5\": \"\", \"INV_Description_5\": \"\", \"INV_VendorCatalogNo_5\": \"\", \"INV_Quantity_5\": \"\", \"INV_VendorCatalogNo_7\": \"\", \"INV_VendorCatalogNo_6\": \"\", \"INV_ExtdPrice_6\": \"\", \"INV_Description_6\": \"\", \"INV_Quantity_6\": \"\", \"INV_UOM_2\": \"\", \"INV_UOM_3\": \"\", \"INV_UOM_7\": \"\", \"INV_UOM_6\": \"\", \"INV_UOM_5\": \"\", \"INV_UOM_4\": \"\", \"INV_ExtdPrice_7\": \"\", \"INV_Description_7\": \"\", \"INV_Quantity_7\": \"\", \"INV_ExtdPrice_8\": \"\", \"INV_Description_8\": \"\", \"INV_VendorCatalogNo_8\": \"\", \"INV_Quantity_8\": \"\"}\\n```'}]}]}"
            ]
          },
          "metadata": {},
          "execution_count": 21
        }
      ],
      "source": [
        "train_dataset[0]"
      ]
    },
    {
      "cell_type": "code",
      "execution_count": 25,
      "metadata": {
        "id": "hb5FKmtxlZuI"
      },
      "outputs": [],
      "source": []
    },
    {
      "cell_type": "code",
      "source": [],
      "metadata": {
        "id": "MSU5AS_FDJ0C"
      },
      "execution_count": 25,
      "outputs": []
    },
    {
      "cell_type": "code",
      "source": [
        "from transformers import AutoProcessor, BitsAndBytesConfig\n",
        "from peft import PeftModel\n",
        "import torch\n",
        "\n",
        "# Same quantization settings you used during training\n",
        "bnb_config = BitsAndBytesConfig(\n",
        "    load_in_4bit=True,\n",
        "    bnb_4bit_use_double_quant=True,\n",
        "    bnb_4bit_quant_type=\"nf4\",\n",
        "    bnb_4bit_compute_dtype=torch.bfloat16,\n",
        ")\n",
        "\n",
        "# Load the base model\n",
        "from transformers import Gemma3ForConditionalGeneration\n",
        "\n",
        "base_model = Gemma3ForConditionalGeneration.from_pretrained(\n",
        "    \"gemma-3-4b-it-finetuned\",\n",
        "    device_map=\"auto\",\n",
        "    torch_dtype=torch.bfloat16,\n",
        "    quantization_config=bnb_config,\n",
        ")"
      ],
      "metadata": {
        "colab": {
          "base_uri": "https://localhost:8080/",
          "height": 81,
          "referenced_widgets": [
            "d70846c917ae458fba3cdb2aac6cb952",
            "935644492bc7412ba36f2788dbf8d4d6",
            "eb143db319764497948b43001c6bc250",
            "df7d62c74a4c472484197225530e16f0",
            "101e7e67bf044e02ad960be84ed2c1fb",
            "d0c16b0f7ae243f9871e4def97c1385f",
            "6509927b8f9048d7a0cb20df621fc806",
            "a63271e23bb84f778cd4e0f743478b39",
            "05f614beac8244d19a1f345fd8a5e226",
            "785e5f50d1ac415693ac69544a1d0385",
            "b8ac9e46875f430f8ab39024d783e0ef",
            "53476860ccbe4ca188634d64b19d60ab",
            "a09fd9b24344413ea47d20edd7fad0e8",
            "252d41e59e3e498fb46d4396ca724de1",
            "985261fe88a1438dacd1cbf2c64a8ce5",
            "ea5244da722342e79e3b4283c0156d60",
            "8f8b5b97822b4bcc92ae0b3f80bdbcb6",
            "953299f5a3cc4658b38f8cb5e68541f7",
            "3879ce54e8594c61b65eb643579d7dcd",
            "95d920a35cc64c5982e06a17212a5abf",
            "6cf616f4033c4cbfaaf5cc4b4aca323a",
            "8ad61d883c4344048f2d7f8cbead90b9"
          ]
        },
        "id": "UlU6q4peDO7A",
        "outputId": "e2ed6991-a6f3-4716-a37d-ff8b7aff61b2"
      },
      "execution_count": 23,
      "outputs": [
        {
          "output_type": "display_data",
          "data": {
            "text/plain": [
              "Fetching 2 files:   0%|          | 0/2 [00:00<?, ?it/s]"
            ],
            "application/vnd.jupyter.widget-view+json": {
              "version_major": 2,
              "version_minor": 0,
              "model_id": "d70846c917ae458fba3cdb2aac6cb952"
            }
          },
          "metadata": {}
        },
        {
          "output_type": "display_data",
          "data": {
            "text/plain": [
              "Loading checkpoint shards:   0%|          | 0/2 [00:00<?, ?it/s]"
            ],
            "application/vnd.jupyter.widget-view+json": {
              "version_major": 2,
              "version_minor": 0,
              "model_id": "53476860ccbe4ca188634d64b19d60ab"
            }
          },
          "metadata": {}
        }
      ]
    },
    {
      "cell_type": "code",
      "source": [
        "from peft import PeftModel\n",
        "\n",
        "# Load the LoRA adapters on top of the base model\n",
        "model = PeftModel.from_pretrained(base_model, \"gemma-3-4b-it-finetuned\")"
      ],
      "metadata": {
        "colab": {
          "base_uri": "https://localhost:8080/"
        },
        "id": "viI-G4YbDq_l",
        "outputId": "b7c8e872-f6f4-4297-ca28-ce22b2f1c858"
      },
      "execution_count": 24,
      "outputs": [
        {
          "output_type": "stream",
          "name": "stderr",
          "text": [
            "/usr/local/lib/python3.12/dist-packages/peft/tuners/tuners_utils.py:196: UserWarning: Already found a `peft_config` attribute in the model. This will lead to having multiple adapters in the model. Make sure to know what you are doing!\n",
            "  warnings.warn(\n"
          ]
        }
      ]
    },
    {
      "cell_type": "code",
      "source": [
        "processor = AutoProcessor.from_pretrained(\"gemma-3-4b-it-finetuned\")"
      ],
      "metadata": {
        "colab": {
          "base_uri": "https://localhost:8080/"
        },
        "id": "-zJap8ifD3Hl",
        "outputId": "a8106bfa-773e-4b7e-8921-13f6c4c09785"
      },
      "execution_count": 25,
      "outputs": [
        {
          "output_type": "stream",
          "name": "stderr",
          "text": [
            "Using a slow image processor as `use_fast` is unset and a slow processor was saved with this model. `use_fast=True` will be the default behavior in v4.52, even if the model was saved with a slow processor. This will result in minor differences in outputs. You'll still be able to use a slow processor with `use_fast=False`.\n"
          ]
        }
      ]
    },
    {
      "cell_type": "code",
      "source": [
        "train_dataset[0]"
      ],
      "metadata": {
        "colab": {
          "base_uri": "https://localhost:8080/"
        },
        "id": "HQWcFosSET8P",
        "outputId": "3dde77e4-aee0-4a55-86c2-8b75561b6785"
      },
      "execution_count": 29,
      "outputs": [
        {
          "output_type": "execute_result",
          "data": {
            "text/plain": [
              "{'images': [<PIL.JpegImagePlugin.JpegImageFile image mode=RGB size=2550x3300>],\n",
              " 'messages': [{'role': 'system',\n",
              "   'content': [{'type': 'text',\n",
              "     'text': '\\nYou are an OCR model expert.\\nYour task is to analyze images and return the extracted information in a well-structured, nested JSON format.\\n'}]},\n",
              "  {'role': 'user',\n",
              "   'content': [{'type': 'image',\n",
              "     'image': <PIL.JpegImagePlugin.JpegImageFile image mode=RGB size=2550x3300>}]},\n",
              "  {'role': 'assistant',\n",
              "   'content': [{'type': 'text',\n",
              "     'text': '```json\\n{\"INV_VendorFullName\": \"Arthrex, Inc\", \"INV_InvoiceNumber\": 921294435, \"INV_PurchaseOrderNo\": \"3000247640-STPO\", \"INV_InvoiceDate\": \"07/17/2024\", \"INV_AccountNumber\": 2000004652, \"INV_VAT\": 0, \"INV_ShipToAddress1\": \"600 E 233RD ST\", \"INV_ShipToState\": \"NY\", \"INV_ShipToPostCode\": \"10466-2604\", \"INV_TotalAmount\": 495.36, \"INV_ShipToFullName\": \"MONTEFIORE MEDICAL CENTER WAKEFIELD\\\\nWAKEFIELD OPERATING ROOM STOREROOM\\\\nIWAKO\", \"INV_ExtdPrice_0\": 495.36, \"INV_Description_0\": \"# 5 FIBERWIRE, 38\\\\\" LONG, BLUE\", \"INV_VendorCatalogNo_0\": \"AR-7210\", \"INV_Quantity_0\": 12, \"INV_ExtdPrice_1\": \"\", \"INV_Description_1\": \"\", \"INV_VendorCatalogNo_1\": \"\", \"INV_Quantity_1\": \"\", \"INV_ExtdPrice_2\": \"\", \"INV_Description_2\": \"\", \"INV_VendorCatalogNo_2\": \"\", \"INV_Quantity_2\": \"\", \"INV_ShipToCity\": \"\", \"INV_UOM_1\": \"\", \"INV_FreightCharge\": 0, \"INV_UOM_0\": \"EA\", \"INV_ExtdPrice_3\": \"\", \"INV_Description_3\": \"\", \"INV_VendorCatalogNo_3\": \"\", \"INV_Quantity_3\": \"\", \"INV_ExtdPrice_4\": \"\", \"INV_Description_4\": \"\", \"INV_VendorCatalogNo_4\": \"\", \"INV_Quantity_4\": \"\", \"INV_ExtdPrice_5\": \"\", \"INV_Description_5\": \"\", \"INV_VendorCatalogNo_5\": \"\", \"INV_Quantity_5\": \"\", \"INV_VendorCatalogNo_7\": \"\", \"INV_VendorCatalogNo_6\": \"\", \"INV_ExtdPrice_6\": \"\", \"INV_Description_6\": \"\", \"INV_Quantity_6\": \"\", \"INV_UOM_2\": \"\", \"INV_UOM_3\": \"\", \"INV_UOM_7\": \"\", \"INV_UOM_6\": \"\", \"INV_UOM_5\": \"\", \"INV_UOM_4\": \"\", \"INV_ExtdPrice_7\": \"\", \"INV_Description_7\": \"\", \"INV_Quantity_7\": \"\", \"INV_ExtdPrice_8\": \"\", \"INV_Description_8\": \"\", \"INV_VendorCatalogNo_8\": \"\", \"INV_Quantity_8\": \"\"}\\n```'}]}]}"
            ]
          },
          "metadata": {},
          "execution_count": 29
        }
      ]
    },
    {
      "cell_type": "code",
      "source": [
        "train_dataset[0]['messages'][:2]"
      ],
      "metadata": {
        "colab": {
          "base_uri": "https://localhost:8080/"
        },
        "id": "pJkw2XgZEMhA",
        "outputId": "47d0668b-24f2-4491-b455-ea6ce565dfd8"
      },
      "execution_count": 71,
      "outputs": [
        {
          "output_type": "execute_result",
          "data": {
            "text/plain": [
              "[{'role': 'system',\n",
              "  'content': [{'type': 'text',\n",
              "    'text': '\\nYou are an OCR model expert.\\nYour task is to analyze images and return the extracted information in a well-structured, nested JSON format.\\n'}]},\n",
              " {'role': 'user',\n",
              "  'content': [{'type': 'image',\n",
              "    'image': <PIL.JpegImagePlugin.JpegImageFile image mode=RGB size=2550x3300>}]}]"
            ]
          },
          "metadata": {},
          "execution_count": 71
        }
      ]
    },
    {
      "cell_type": "code",
      "source": [
        "inputs = processor.apply_chat_template(\n",
        "    train_dataset[0]['messages'][:2], add_generation_prompt=True, tokenize=True,\n",
        "    return_dict=True, return_tensors=\"pt\"\n",
        ")\n",
        "input_len = inputs[\"input_ids\"].shape[-1]\n",
        "input_len"
      ],
      "metadata": {
        "colab": {
          "base_uri": "https://localhost:8080/"
        },
        "id": "ITmF7SD8GAg2",
        "outputId": "14330681-8388-4c5f-e987-8b1433b1ddc0"
      },
      "execution_count": 72,
      "outputs": [
        {
          "output_type": "execute_result",
          "data": {
            "text/plain": [
              "298"
            ]
          },
          "metadata": {},
          "execution_count": 72
        }
      ]
    },
    {
      "cell_type": "code",
      "source": [
        "import numpy as np, matplotlib.pyplot as plt\n",
        "from PIL import Image\n",
        "\n",
        "img = inputs['pixel_values'][0].cpu().permute(1,2,0).numpy()\n",
        "img = Image.fromarray((img*255).astype(np.uint8))\n",
        "\n",
        "plt.imshow(img)\n",
        "plt.axis(\"off\")\n",
        "plt.show()"
      ],
      "metadata": {
        "colab": {
          "base_uri": "https://localhost:8080/",
          "height": 406
        },
        "id": "vtQT5Ix6H3wJ",
        "outputId": "94136555-3c52-4c27-a0a1-fe067a171bca"
      },
      "execution_count": 73,
      "outputs": [
        {
          "output_type": "display_data",
          "data": {
            "text/plain": [
              "<Figure size 640x480 with 1 Axes>"
            ],
            "image/png": "[encoded data removed]"
          },
          "metadata": {}
        }
      ]
    },
    {
      "cell_type": "code",
      "source": [
        "with torch.inference_mode():\n",
        "    generation = model.generate(**inputs.to(model.device, dtype=torch.bfloat16), max_new_tokens=1000, do_sample=False)[0]"
      ],
      "metadata": {
        "id": "NWrGKEmmERzb"
      },
      "execution_count": 78,
      "outputs": []
    },
    {
      "cell_type": "code",
      "source": [
        "len(generation[input_len:])"
      ],
      "metadata": {
        "colab": {
          "base_uri": "https://localhost:8080/"
        },
        "id": "Kc-IkQQGF-Mc",
        "outputId": "1aa05fb9-f9c3-428d-b121-c662213477f5"
      },
      "execution_count": 83,
      "outputs": [
        {
          "output_type": "execute_result",
          "data": {
            "text/plain": [
              "630"
            ]
          },
          "metadata": {},
          "execution_count": 83
        }
      ]
    },
    {
      "cell_type": "code",
      "source": [
        "print(processor.decode(generation[input_len:], skip_special_tokens=True))"
      ],
      "metadata": {
        "id": "HwhIoXDwGjzv"
      },
      "execution_count": 104,
      "outputs": []
    },
    {
      "cell_type": "code",
      "source": [],
      "metadata": {
        "id": "Na6lQPK_J7x2"
      },
      "execution_count": 103,
      "outputs": []
    },
    {
      "cell_type": "code",
      "source": [
        "inputs = processor.apply_chat_template(\n",
        "    eval_dataset[0]['messages'][:2], add_generation_prompt=True, tokenize=True,\n",
        "    return_dict=True, return_tensors=\"pt\"\n",
        ")\n",
        "input_len = inputs[\"input_ids\"].shape[-1]\n",
        "input_len"
      ],
      "metadata": {
        "colab": {
          "base_uri": "https://localhost:8080/"
        },
        "id": "lWqfvnvEG9GE",
        "outputId": "48d869e1-9e56-4cfd-b6a4-3935db5fd74d"
      },
      "execution_count": 109,
      "outputs": [
        {
          "output_type": "execute_result",
          "data": {
            "text/plain": [
              "298"
            ]
          },
          "metadata": {},
          "execution_count": 109
        }
      ]
    },
    {
      "cell_type": "code",
      "source": [
        "with torch.inference_mode():\n",
        "    generation = model.generate(**inputs.to(model.device, dtype=torch.bfloat16), max_new_tokens=1000, do_sample=False)[0]"
      ],
      "metadata": {
        "id": "PFBpBflNHhLH"
      },
      "execution_count": 110,
      "outputs": []
    },
    {
      "cell_type": "code",
      "source": [
        "len(generation[input_len:])"
      ],
      "metadata": {
        "colab": {
          "base_uri": "https://localhost:8080/"
        },
        "id": "PYuApHjQI_Qe",
        "outputId": "4b323eab-a738-4437-d1b3-ba6ee936ddb9"
      },
      "execution_count": 111,
      "outputs": [
        {
          "output_type": "execute_result",
          "data": {
            "text/plain": [
              "624"
            ]
          },
          "metadata": {},
          "execution_count": 111
        }
      ]
    },
    {
      "cell_type": "code",
      "source": [
        "print(processor.decode(generation[input_len:], skip_special_tokens=True))"
      ],
      "metadata": {
        "colab": {
          "base_uri": "https://localhost:8080/"
        },
        "id": "ishfKnbeKdXu",
        "outputId": "af5f08dc-4cb8-4ac0-e108-8176690ea650"
      },
      "execution_count": 112,
      "outputs": [
        {
          "output_type": "stream",
          "name": "stdout",
          "text": [
            "```json\n",
            "{\"INV_VendorFullName\": \"Arthrex, Inc\", \"INV_InvoiceNumber\": 920386902, \"INV_PurchaseOrderNo\": \"2300113238-STPO\", \"INV_InvoiceDate\": 43062978, \"INV_AccountNumber\": 2000018119, \"INV_VAT\": 0, \"INV_ShipToAddress1\": \"160 N MIDLAND AVE\", \"INV_ShipToState\": \"NY\", \"INV_ShipToPostCode\": \"10960-1912\", \"INV_TotalAmount\": 2400, \"INV_ShipToFullName\": \"NYACK HOSPITAL\", \"INV_ExtdPrice_0\": 2356.25, \"INV_Description_0\": \"Qondlin Implant System, HIMM\", \"INV_VendorCatalogNo_0\": \"AR-1288Q15-LI10\", \"INV_Quantity_0\": 1, \"INV_ExtdPrice_1\": \"\", \"INV_Description_1\": \"\", \"INV_VendorCatalogNo_1\": \"\", \"INV_Quantity_1\": \"\", \"INV_ExtdPrice_2\": \"\", \"INV_Description_2\": \"\", \"INV_VendorCatalogNo_2\": \"\", \"INV_Quantity_2\": \"\", \"INV_ShipToCity\": \"NYACK\", \"INV_UOM_1\": \"\", \"INV_FreightCharge\": 44.17, \"INV_UOM_0\": \"EA\", \"INV_ExtdPrice_3\": \"\", \"INV_Description_3\": \"\", \"INV_VendorCatalogNo_3\": \"\", \"INV_Quantity_3\": \"\", \"INV_ExtdPrice_4\": \"\", \"INV_Description_4\": \"\", \"INV_VendorCatalogNo_4\": \"\", \"INV_Quantity_4\": \"\", \"INV_ExtdPrice_5\": \"\", \"INV_Description_5\": \"\", \"INV_VendorCatalogNo_5\": \"\", \"INV_Quantity_5\": \"\", \"INV_VendorCatalogNo_7\": \"\", \"INV_VendorCatalogNo_6\": \"\", \"INV_ExtdPrice_6\": \"\", \"INV_Description_6\": \"\", \"INV_Quantity_6\": \"\", \"INV_UOM_2\": \"\", \"INV_UOM_3\": \"\", \"INV_UOM_7\": \"\", \"INV_UOM_6\": \"\", \"INV_UOM_5\": \"\", \"INV_UOM_4\": \"\", \"INV_ExtdPrice_7\": \"\", \"INV_Description_7\": \"\", \"INV_Quantity_7\": \"\", \"INV_ExtdPrice_8\": \"\", \"INV_Description_8\": \"\", \"INV_VendorCatalogNo_8\": \"\", \"INV_Quantity_8\": \"\"}\n",
            "```\n"
          ]
        }
      ]
    },
    {
      "cell_type": "code",
      "source": [
        "eval_dataset[0]['messages'][2]['content'][0]['text']"
      ],
      "metadata": {
        "colab": {
          "base_uri": "https://localhost:8080/",
          "height": 175
        },
        "id": "mUcNK5GrKgN3",
        "outputId": "57ef8502-75c2-4803-ab41-449f4689d2ae"
      },
      "execution_count": 117,
      "outputs": [
        {
          "output_type": "execute_result",
          "data": {
            "text/plain": [
              "'```json\\n{\"INV_VendorFullName\": \"Arthrex, Inc\", \"INV_InvoiceNumber\": 920386092, \"INV_PurchaseOrderNo\": \"2300113238-STPO\", \"INV_InvoiceDate\": 45355, \"INV_AccountNumber\": 2000018119, \"INV_VAT\": 0, \"INV_ShipToAddress1\": \"160 N MIDLAND AVE\", \"INV_ShipToState\": \"NY\", \"INV_ShipToPostCode\": \"10960-1912\", \"INV_TotalAmount\": 2400.42, \"INV_ShipToFullName\": \"NYACK HOSPITAL\", \"INV_ExtdPrice_0\": 2356.25, \"INV_Description_0\": \"QuadLink Implant System, 11MM\", \"INV_VendorCatalogNo_0\": \"AR-1288QIS-110\", \"INV_Quantity_0\": 1, \"INV_ExtdPrice_1\": \"\", \"INV_Description_1\": \"\", \"INV_VendorCatalogNo_1\": \"\", \"INV_Quantity_1\": \"\", \"INV_ExtdPrice_2\": \"\", \"INV_Description_2\": \"\", \"INV_VendorCatalogNo_2\": \"\", \"INV_Quantity_2\": \"\", \"INV_ShipToCity\": \"NYACK\", \"INV_UOM_1\": \"\", \"INV_FreightCharge\": 44.17, \"INV_UOM_0\": \"EA\", \"INV_ExtdPrice_3\": \"\", \"INV_Description_3\": \"\", \"INV_VendorCatalogNo_3\": \"\", \"INV_Quantity_3\": \"\", \"INV_ExtdPrice_4\": \"\", \"INV_Description_4\": \"\", \"INV_VendorCatalogNo_4\": \"\", \"INV_Quantity_4\": \"\", \"INV_ExtdPrice_5\": \"\", \"INV_Description_5\": \"\", \"INV_VendorCatalogNo_5\": \"\", \"INV_Quantity_5\": \"\", \"INV_VendorCatalogNo_7\": \"\", \"INV_VendorCatalogNo_6\": \"\", \"INV_ExtdPrice_6\": \"\", \"INV_Description_6\": \"\", \"INV_Quantity_6\": \"\", \"INV_UOM_2\": \"\", \"INV_UOM_3\": \"\", \"INV_UOM_7\": \"\", \"INV_UOM_6\": \"\", \"INV_UOM_5\": \"\", \"INV_UOM_4\": \"\", \"INV_ExtdPrice_7\": \"\", \"INV_Description_7\": \"\", \"INV_Quantity_7\": \"\", \"INV_ExtdPrice_8\": \"\", \"INV_Description_8\": \"\", \"INV_VendorCatalogNo_8\": \"\", \"INV_Quantity_8\": \"\"}\\n```'"
            ],
            "application/vnd.google.colaboratory.intrinsic+json": {
              "type": "string"
            }
          },
          "metadata": {},
          "execution_count": 117
        }
      ]
    },
    {
      "cell_type": "code",
      "source": [
        "eval_dataset[1]['messages'][2]['content'][0]['text']"
      ],
      "metadata": {
        "colab": {
          "base_uri": "https://localhost:8080/",
          "height": 123
        },
        "id": "erMn31O-KzrC",
        "outputId": "efab3170-38f5-4a98-9c52-0002f476c0bf"
      },
      "execution_count": 118,
      "outputs": [
        {
          "output_type": "execute_result",
          "data": {
            "text/plain": [
              "'```json\\n{\"INV_VendorFullName\": \"Arthrex, Inc\", \"INV_InvoiceNumber\": 920341437, \"INV_PurchaseOrderNo\": \"2300111151-STPO\", \"INV_InvoiceDate\": \"03/28/2024\", \"INV_AccountNumber\": 2000018119, \"INV_VAT\": 0, \"INV_ShipToAddress1\": \"160 N MIDLAND AVE\", \"INV_ShipToState\": \"NY\", \"INV_ShipToPostCode\": \"10960-1912\", \"INV_TotalAmount\": 865.51, \"INV_ShipToFullName\": \"NYACK HOSPITAL\", \"INV_ExtdPrice_0\": 850.2, \"INV_Description_0\": \"SutureTape 1.3mm WH/BL & WH/BLK\", \"INV_VendorCatalogNo_0\": \"AR-7501\", \"INV_Quantity_0\": 12, \"INV_ExtdPrice_1\": \"\", \"INV_Description_1\": \"\", \"INV_VendorCatalogNo_1\": \"\", \"INV_Quantity_1\": \"\", \"INV_ExtdPrice_2\": \"\", \"INV_Description_2\": \"\", \"INV_VendorCatalogNo_2\": \"\", \"INV_Quantity_2\": \"\", \"INV_ShipToCity\": \"NYACK\", \"INV_UOM_1\": \"\", \"INV_FreightCharge\": 15.31, \"INV_UOM_0\": \"EA\", \"INV_ExtdPrice_3\": \"\", \"INV_Description_3\": \"\", \"INV_VendorCatalogNo_3\": \"\", \"INV_Quantity_3\": \"\", \"INV_ExtdPrice_4\": \"\", \"INV_Description_4\": \"\", \"INV_VendorCatalogNo_4\": \"\", \"INV_Quantity_4\": \"\", \"INV_ExtdPrice_5\": \"\", \"INV_Description_5\": \"\", \"INV_VendorCatalogNo_5\": \"\", \"INV_Quantity_5\": \"\", \"INV_VendorCatalogNo_7\": \"\", \"INV_VendorCatalogNo_6\": \"\", \"INV_ExtdPrice_6\": \"\", \"INV_Description_6\": \"\", \"INV_Quantity_6\": \"\", \"INV_UOM_2\": \"\", \"INV_UOM_3\": \"\", \"INV_UOM_7\": \"\", \"INV_UOM_6\": \"\", \"INV_UOM_5\": \"\", \"INV_UOM_4\": \"\", \"INV_ExtdPrice_7\": \"\", \"INV_Description_7\": \"\", \"INV_Quantity_7\": \"\", \"INV_ExtdPrice_8\": \"\", \"INV_Description_8\": \"\", \"INV_VendorCatalogNo_8\": \"\", \"INV_Quantity_8\": \"\"}\\n```'"
            ],
            "application/vnd.google.colaboratory.intrinsic+json": {
              "type": "string"
            }
          },
          "metadata": {},
          "execution_count": 118
        }
      ]
    },
    {
      "cell_type": "code",
      "source": [],
      "metadata": {
        "id": "4ttglrZXK7nD"
      },
      "execution_count": null,
      "outputs": []
    }
  ],
  "metadata": {
    "accelerator": "GPU",
    "colab": {
      "gpuType": "A100",
      "machine_shape": "hm",
      "provenance": [],
      "mount_file_id": "1w_CPSGC0b7Yb-p1Lo66gZKRijFIHZlPX",
      "authorship_tag": "ABX9TyOC26fd6YzYqH86lt937FaG",
      "include_colab_link": true
    },
    "kernelspec": {
      "display_name": "Python 3",
      "name": "python3"
    },
    "language_info": {
      "name": "python"
    }
  },
  "nbformat": 4,
  "nbformat_minor": 0
}
